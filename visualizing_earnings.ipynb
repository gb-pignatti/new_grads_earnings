{
 "cells": [
  {
   "cell_type": "markdown",
   "metadata": {},
   "source": [
    "# Visualizing Earnings Based on College Majors "
   ]
  },
  {
   "cell_type": "markdown",
   "metadata": {},
   "source": [
    "## Introduction"
   ]
  },
  {
   "cell_type": "markdown",
   "metadata": {},
   "source": [
    "In this project we will use data visualization to analyze the job outcomes of students who graduated from US colleges between 2010 and 2012. \n",
    "\n",
    "We will use a dataset which was originally compiled by the America Community Survey. However we will work with a cleaned version of this dataset which was released by FiveThirtyEight on this [Github repo](https://github.com/fivethirtyeight/data/tree/master/college-majors). "
   ]
  },
  {
   "cell_type": "markdown",
   "metadata": {},
   "source": [
    "Before diving right into it, let's import all the necessary libraries and options..."
   ]
  },
  {
   "cell_type": "code",
   "execution_count": 1,
   "metadata": {},
   "outputs": [],
   "source": [
    "import pandas as pd\n",
    "import numpy as np\n",
    "import matplotlib.pyplot as plt\n",
    "from IPython.core.interactiveshell import InteractiveShell\n",
    "InteractiveShell.ast_node_interactivity = \"all\"\n",
    "pd.set_option(\"display.max_columns\", None)"
   ]
  },
  {
   "cell_type": "markdown",
   "metadata": {},
   "source": [
    "...and the magic command that will make Jupyter display all the plots inline."
   ]
  },
  {
   "cell_type": "code",
   "execution_count": 2,
   "metadata": {},
   "outputs": [],
   "source": [
    "%matplotlib inline"
   ]
  },
  {
   "cell_type": "markdown",
   "metadata": {},
   "source": [
    "Ok, now we are all ready: LET THE SHOW START!"
   ]
  },
  {
   "cell_type": "markdown",
   "metadata": {},
   "source": [
    "---"
   ]
  },
  {
   "cell_type": "markdown",
   "metadata": {},
   "source": [
    "## Initial Exploration of the Data"
   ]
  },
  {
   "cell_type": "markdown",
   "metadata": {},
   "source": [
    "First things first: let's open the CSV file containing the dataset and let's take a first look to familiarize with it."
   ]
  },
  {
   "cell_type": "code",
   "execution_count": 3,
   "metadata": {},
   "outputs": [],
   "source": [
    "recent_grads = pd.read_csv(\"recent-grads.csv\")"
   ]
  },
  {
   "cell_type": "code",
   "execution_count": 4,
   "metadata": {},
   "outputs": [
    {
     "data": {
      "text/html": [
       "<div>\n",
       "<style scoped>\n",
       "    .dataframe tbody tr th:only-of-type {\n",
       "        vertical-align: middle;\n",
       "    }\n",
       "\n",
       "    .dataframe tbody tr th {\n",
       "        vertical-align: top;\n",
       "    }\n",
       "\n",
       "    .dataframe thead th {\n",
       "        text-align: right;\n",
       "    }\n",
       "</style>\n",
       "<table border=\"1\" class=\"dataframe\">\n",
       "  <thead>\n",
       "    <tr style=\"text-align: right;\">\n",
       "      <th></th>\n",
       "      <th>Rank</th>\n",
       "      <th>Major_code</th>\n",
       "      <th>Major</th>\n",
       "      <th>Total</th>\n",
       "      <th>Men</th>\n",
       "      <th>Women</th>\n",
       "      <th>Major_category</th>\n",
       "      <th>ShareWomen</th>\n",
       "      <th>Sample_size</th>\n",
       "      <th>Employed</th>\n",
       "      <th>Full_time</th>\n",
       "      <th>Part_time</th>\n",
       "      <th>Full_time_year_round</th>\n",
       "      <th>Unemployed</th>\n",
       "      <th>Unemployment_rate</th>\n",
       "      <th>Median</th>\n",
       "      <th>P25th</th>\n",
       "      <th>P75th</th>\n",
       "      <th>College_jobs</th>\n",
       "      <th>Non_college_jobs</th>\n",
       "      <th>Low_wage_jobs</th>\n",
       "    </tr>\n",
       "  </thead>\n",
       "  <tbody>\n",
       "    <tr>\n",
       "      <th>0</th>\n",
       "      <td>1</td>\n",
       "      <td>2419</td>\n",
       "      <td>PETROLEUM ENGINEERING</td>\n",
       "      <td>2339.0</td>\n",
       "      <td>2057.0</td>\n",
       "      <td>282.0</td>\n",
       "      <td>Engineering</td>\n",
       "      <td>0.120564</td>\n",
       "      <td>36</td>\n",
       "      <td>1976</td>\n",
       "      <td>1849</td>\n",
       "      <td>270</td>\n",
       "      <td>1207</td>\n",
       "      <td>37</td>\n",
       "      <td>0.018381</td>\n",
       "      <td>110000</td>\n",
       "      <td>95000</td>\n",
       "      <td>125000</td>\n",
       "      <td>1534</td>\n",
       "      <td>364</td>\n",
       "      <td>193</td>\n",
       "    </tr>\n",
       "    <tr>\n",
       "      <th>1</th>\n",
       "      <td>2</td>\n",
       "      <td>2416</td>\n",
       "      <td>MINING AND MINERAL ENGINEERING</td>\n",
       "      <td>756.0</td>\n",
       "      <td>679.0</td>\n",
       "      <td>77.0</td>\n",
       "      <td>Engineering</td>\n",
       "      <td>0.101852</td>\n",
       "      <td>7</td>\n",
       "      <td>640</td>\n",
       "      <td>556</td>\n",
       "      <td>170</td>\n",
       "      <td>388</td>\n",
       "      <td>85</td>\n",
       "      <td>0.117241</td>\n",
       "      <td>75000</td>\n",
       "      <td>55000</td>\n",
       "      <td>90000</td>\n",
       "      <td>350</td>\n",
       "      <td>257</td>\n",
       "      <td>50</td>\n",
       "    </tr>\n",
       "    <tr>\n",
       "      <th>2</th>\n",
       "      <td>3</td>\n",
       "      <td>2415</td>\n",
       "      <td>METALLURGICAL ENGINEERING</td>\n",
       "      <td>856.0</td>\n",
       "      <td>725.0</td>\n",
       "      <td>131.0</td>\n",
       "      <td>Engineering</td>\n",
       "      <td>0.153037</td>\n",
       "      <td>3</td>\n",
       "      <td>648</td>\n",
       "      <td>558</td>\n",
       "      <td>133</td>\n",
       "      <td>340</td>\n",
       "      <td>16</td>\n",
       "      <td>0.024096</td>\n",
       "      <td>73000</td>\n",
       "      <td>50000</td>\n",
       "      <td>105000</td>\n",
       "      <td>456</td>\n",
       "      <td>176</td>\n",
       "      <td>0</td>\n",
       "    </tr>\n",
       "    <tr>\n",
       "      <th>3</th>\n",
       "      <td>4</td>\n",
       "      <td>2417</td>\n",
       "      <td>NAVAL ARCHITECTURE AND MARINE ENGINEERING</td>\n",
       "      <td>1258.0</td>\n",
       "      <td>1123.0</td>\n",
       "      <td>135.0</td>\n",
       "      <td>Engineering</td>\n",
       "      <td>0.107313</td>\n",
       "      <td>16</td>\n",
       "      <td>758</td>\n",
       "      <td>1069</td>\n",
       "      <td>150</td>\n",
       "      <td>692</td>\n",
       "      <td>40</td>\n",
       "      <td>0.050125</td>\n",
       "      <td>70000</td>\n",
       "      <td>43000</td>\n",
       "      <td>80000</td>\n",
       "      <td>529</td>\n",
       "      <td>102</td>\n",
       "      <td>0</td>\n",
       "    </tr>\n",
       "    <tr>\n",
       "      <th>4</th>\n",
       "      <td>5</td>\n",
       "      <td>2405</td>\n",
       "      <td>CHEMICAL ENGINEERING</td>\n",
       "      <td>32260.0</td>\n",
       "      <td>21239.0</td>\n",
       "      <td>11021.0</td>\n",
       "      <td>Engineering</td>\n",
       "      <td>0.341631</td>\n",
       "      <td>289</td>\n",
       "      <td>25694</td>\n",
       "      <td>23170</td>\n",
       "      <td>5180</td>\n",
       "      <td>16697</td>\n",
       "      <td>1672</td>\n",
       "      <td>0.061098</td>\n",
       "      <td>65000</td>\n",
       "      <td>50000</td>\n",
       "      <td>75000</td>\n",
       "      <td>18314</td>\n",
       "      <td>4440</td>\n",
       "      <td>972</td>\n",
       "    </tr>\n",
       "  </tbody>\n",
       "</table>\n",
       "</div>"
      ],
      "text/plain": [
       "   Rank  Major_code                                      Major    Total  \\\n",
       "0     1        2419                      PETROLEUM ENGINEERING   2339.0   \n",
       "1     2        2416             MINING AND MINERAL ENGINEERING    756.0   \n",
       "2     3        2415                  METALLURGICAL ENGINEERING    856.0   \n",
       "3     4        2417  NAVAL ARCHITECTURE AND MARINE ENGINEERING   1258.0   \n",
       "4     5        2405                       CHEMICAL ENGINEERING  32260.0   \n",
       "\n",
       "       Men    Women Major_category  ShareWomen  Sample_size  Employed  \\\n",
       "0   2057.0    282.0    Engineering    0.120564           36      1976   \n",
       "1    679.0     77.0    Engineering    0.101852            7       640   \n",
       "2    725.0    131.0    Engineering    0.153037            3       648   \n",
       "3   1123.0    135.0    Engineering    0.107313           16       758   \n",
       "4  21239.0  11021.0    Engineering    0.341631          289     25694   \n",
       "\n",
       "   Full_time  Part_time  Full_time_year_round  Unemployed  Unemployment_rate  \\\n",
       "0       1849        270                  1207          37           0.018381   \n",
       "1        556        170                   388          85           0.117241   \n",
       "2        558        133                   340          16           0.024096   \n",
       "3       1069        150                   692          40           0.050125   \n",
       "4      23170       5180                 16697        1672           0.061098   \n",
       "\n",
       "   Median  P25th   P75th  College_jobs  Non_college_jobs  Low_wage_jobs  \n",
       "0  110000  95000  125000          1534               364            193  \n",
       "1   75000  55000   90000           350               257             50  \n",
       "2   73000  50000  105000           456               176              0  \n",
       "3   70000  43000   80000           529               102              0  \n",
       "4   65000  50000   75000         18314              4440            972  "
      ]
     },
     "execution_count": 4,
     "metadata": {},
     "output_type": "execute_result"
    },
    {
     "data": {
      "text/html": [
       "<div>\n",
       "<style scoped>\n",
       "    .dataframe tbody tr th:only-of-type {\n",
       "        vertical-align: middle;\n",
       "    }\n",
       "\n",
       "    .dataframe tbody tr th {\n",
       "        vertical-align: top;\n",
       "    }\n",
       "\n",
       "    .dataframe thead th {\n",
       "        text-align: right;\n",
       "    }\n",
       "</style>\n",
       "<table border=\"1\" class=\"dataframe\">\n",
       "  <thead>\n",
       "    <tr style=\"text-align: right;\">\n",
       "      <th></th>\n",
       "      <th>Rank</th>\n",
       "      <th>Major_code</th>\n",
       "      <th>Major</th>\n",
       "      <th>Total</th>\n",
       "      <th>Men</th>\n",
       "      <th>Women</th>\n",
       "      <th>Major_category</th>\n",
       "      <th>ShareWomen</th>\n",
       "      <th>Sample_size</th>\n",
       "      <th>Employed</th>\n",
       "      <th>Full_time</th>\n",
       "      <th>Part_time</th>\n",
       "      <th>Full_time_year_round</th>\n",
       "      <th>Unemployed</th>\n",
       "      <th>Unemployment_rate</th>\n",
       "      <th>Median</th>\n",
       "      <th>P25th</th>\n",
       "      <th>P75th</th>\n",
       "      <th>College_jobs</th>\n",
       "      <th>Non_college_jobs</th>\n",
       "      <th>Low_wage_jobs</th>\n",
       "    </tr>\n",
       "  </thead>\n",
       "  <tbody>\n",
       "    <tr>\n",
       "      <th>168</th>\n",
       "      <td>169</td>\n",
       "      <td>3609</td>\n",
       "      <td>ZOOLOGY</td>\n",
       "      <td>8409.0</td>\n",
       "      <td>3050.0</td>\n",
       "      <td>5359.0</td>\n",
       "      <td>Biology &amp; Life Science</td>\n",
       "      <td>0.637293</td>\n",
       "      <td>47</td>\n",
       "      <td>6259</td>\n",
       "      <td>5043</td>\n",
       "      <td>2190</td>\n",
       "      <td>3602</td>\n",
       "      <td>304</td>\n",
       "      <td>0.046320</td>\n",
       "      <td>26000</td>\n",
       "      <td>20000</td>\n",
       "      <td>39000</td>\n",
       "      <td>2771</td>\n",
       "      <td>2947</td>\n",
       "      <td>743</td>\n",
       "    </tr>\n",
       "    <tr>\n",
       "      <th>169</th>\n",
       "      <td>170</td>\n",
       "      <td>5201</td>\n",
       "      <td>EDUCATIONAL PSYCHOLOGY</td>\n",
       "      <td>2854.0</td>\n",
       "      <td>522.0</td>\n",
       "      <td>2332.0</td>\n",
       "      <td>Psychology &amp; Social Work</td>\n",
       "      <td>0.817099</td>\n",
       "      <td>7</td>\n",
       "      <td>2125</td>\n",
       "      <td>1848</td>\n",
       "      <td>572</td>\n",
       "      <td>1211</td>\n",
       "      <td>148</td>\n",
       "      <td>0.065112</td>\n",
       "      <td>25000</td>\n",
       "      <td>24000</td>\n",
       "      <td>34000</td>\n",
       "      <td>1488</td>\n",
       "      <td>615</td>\n",
       "      <td>82</td>\n",
       "    </tr>\n",
       "    <tr>\n",
       "      <th>170</th>\n",
       "      <td>171</td>\n",
       "      <td>5202</td>\n",
       "      <td>CLINICAL PSYCHOLOGY</td>\n",
       "      <td>2838.0</td>\n",
       "      <td>568.0</td>\n",
       "      <td>2270.0</td>\n",
       "      <td>Psychology &amp; Social Work</td>\n",
       "      <td>0.799859</td>\n",
       "      <td>13</td>\n",
       "      <td>2101</td>\n",
       "      <td>1724</td>\n",
       "      <td>648</td>\n",
       "      <td>1293</td>\n",
       "      <td>368</td>\n",
       "      <td>0.149048</td>\n",
       "      <td>25000</td>\n",
       "      <td>25000</td>\n",
       "      <td>40000</td>\n",
       "      <td>986</td>\n",
       "      <td>870</td>\n",
       "      <td>622</td>\n",
       "    </tr>\n",
       "    <tr>\n",
       "      <th>171</th>\n",
       "      <td>172</td>\n",
       "      <td>5203</td>\n",
       "      <td>COUNSELING PSYCHOLOGY</td>\n",
       "      <td>4626.0</td>\n",
       "      <td>931.0</td>\n",
       "      <td>3695.0</td>\n",
       "      <td>Psychology &amp; Social Work</td>\n",
       "      <td>0.798746</td>\n",
       "      <td>21</td>\n",
       "      <td>3777</td>\n",
       "      <td>3154</td>\n",
       "      <td>965</td>\n",
       "      <td>2738</td>\n",
       "      <td>214</td>\n",
       "      <td>0.053621</td>\n",
       "      <td>23400</td>\n",
       "      <td>19200</td>\n",
       "      <td>26000</td>\n",
       "      <td>2403</td>\n",
       "      <td>1245</td>\n",
       "      <td>308</td>\n",
       "    </tr>\n",
       "    <tr>\n",
       "      <th>172</th>\n",
       "      <td>173</td>\n",
       "      <td>3501</td>\n",
       "      <td>LIBRARY SCIENCE</td>\n",
       "      <td>1098.0</td>\n",
       "      <td>134.0</td>\n",
       "      <td>964.0</td>\n",
       "      <td>Education</td>\n",
       "      <td>0.877960</td>\n",
       "      <td>2</td>\n",
       "      <td>742</td>\n",
       "      <td>593</td>\n",
       "      <td>237</td>\n",
       "      <td>410</td>\n",
       "      <td>87</td>\n",
       "      <td>0.104946</td>\n",
       "      <td>22000</td>\n",
       "      <td>20000</td>\n",
       "      <td>22000</td>\n",
       "      <td>288</td>\n",
       "      <td>338</td>\n",
       "      <td>192</td>\n",
       "    </tr>\n",
       "  </tbody>\n",
       "</table>\n",
       "</div>"
      ],
      "text/plain": [
       "     Rank  Major_code                   Major   Total     Men   Women  \\\n",
       "168   169        3609                 ZOOLOGY  8409.0  3050.0  5359.0   \n",
       "169   170        5201  EDUCATIONAL PSYCHOLOGY  2854.0   522.0  2332.0   \n",
       "170   171        5202     CLINICAL PSYCHOLOGY  2838.0   568.0  2270.0   \n",
       "171   172        5203   COUNSELING PSYCHOLOGY  4626.0   931.0  3695.0   \n",
       "172   173        3501         LIBRARY SCIENCE  1098.0   134.0   964.0   \n",
       "\n",
       "               Major_category  ShareWomen  Sample_size  Employed  Full_time  \\\n",
       "168    Biology & Life Science    0.637293           47      6259       5043   \n",
       "169  Psychology & Social Work    0.817099            7      2125       1848   \n",
       "170  Psychology & Social Work    0.799859           13      2101       1724   \n",
       "171  Psychology & Social Work    0.798746           21      3777       3154   \n",
       "172                 Education    0.877960            2       742        593   \n",
       "\n",
       "     Part_time  Full_time_year_round  Unemployed  Unemployment_rate  Median  \\\n",
       "168       2190                  3602         304           0.046320   26000   \n",
       "169        572                  1211         148           0.065112   25000   \n",
       "170        648                  1293         368           0.149048   25000   \n",
       "171        965                  2738         214           0.053621   23400   \n",
       "172        237                   410          87           0.104946   22000   \n",
       "\n",
       "     P25th  P75th  College_jobs  Non_college_jobs  Low_wage_jobs  \n",
       "168  20000  39000          2771              2947            743  \n",
       "169  24000  34000          1488               615             82  \n",
       "170  25000  40000           986               870            622  \n",
       "171  19200  26000          2403              1245            308  \n",
       "172  20000  22000           288               338            192  "
      ]
     },
     "execution_count": 4,
     "metadata": {},
     "output_type": "execute_result"
    }
   ],
   "source": [
    "# Print first and last five rows\n",
    "recent_grads.head(5)\n",
    "recent_grads.tail(5)"
   ]
  },
  {
   "cell_type": "code",
   "execution_count": 5,
   "metadata": {},
   "outputs": [
    {
     "data": {
      "text/plain": [
       "(173, 21)"
      ]
     },
     "execution_count": 5,
     "metadata": {},
     "output_type": "execute_result"
    }
   ],
   "source": [
    "# Print (number of rows, number of columns)\n",
    "recent_grads.shape"
   ]
  },
  {
   "cell_type": "markdown",
   "metadata": {},
   "source": [
    "The dataframe consists of 173 rows, each of them corresponding to a different major. Statistical information related to these majors' graduates and their employment status is presented across 21 columns. \n",
    "\n",
    "Below, we detail the content of the most relevant columns (the ones we'll focus on); for information about the remaining columns, the reader can refer to the *readme.md* file contained in the repo we linked in the Introduction.    "
   ]
  },
  {
   "cell_type": "markdown",
   "metadata": {},
   "source": [
    "- `Rank`: Rank by median earnings;\n",
    "- `Major`: Major description;\n",
    "- `Major_category`: Category of major;\n",
    "- `Total`: Total number of graduates within the major;\n",
    "- `Men`: Number of male graduates;\n",
    "- `Women`: Number of women graduates;\n",
    "- `ShareWomen`: Percentage of female graduates;\n",
    "- `Employed`: Number of employed graduates;\n",
    "- `Full_time`: Number of employed graduates working 35 weekly hours or more;\n",
    "- `Part_time`: Number of employed graduates working less than 35 weekly hours;\n",
    "- `Unemployment_rate`: Percentage of unemployed graduates;\n",
    "- `Median`: Median salary of full-time, year-round worker;\n",
    "- `Sample_size`: Sample size used to calculate median salaries (the population considered is full-time, year-round employed graduates only)."
   ]
  },
  {
   "cell_type": "markdown",
   "metadata": {},
   "source": [
    "Before moving on, let's assign slighlty more descriptive names to some of the columns. "
   ]
  },
  {
   "cell_type": "code",
   "execution_count": 6,
   "metadata": {},
   "outputs": [],
   "source": [
    "recent_grads.rename(columns = {\"Total\" : \"Total_graduates\", \"Men\" : \"Men_graduates\",\n",
    "                               \"Women\" : \"Women_graduates\", \"Employed\" : \"Total_employed\", \n",
    "                               \"Full_time\" : \"Full_time_employed\", \"Part_time\" : \"Part_time_employed\",\n",
    "                               \"Median\": \"Median_salary\"}, inplace = True)"
   ]
  },
  {
   "cell_type": "markdown",
   "metadata": {},
   "source": [
    "Looking back at the few rows we displayed above, one recognizes the dataset is order by the `Rank` column in ascending order. This means we don't need to sweat a tear in order to find out what is the highest paying major (yeah yeah, petroleum engineers, I know it's you; everyone can see you up there, no need to brag about it)."
   ]
  },
  {
   "cell_type": "code",
   "execution_count": 7,
   "metadata": {},
   "outputs": [
    {
     "data": {
      "text/plain": [
       "Rank                    0\n",
       "Major_code              0\n",
       "Major                   0\n",
       "Total_graduates         1\n",
       "Men_graduates           1\n",
       "Women_graduates         1\n",
       "Major_category          0\n",
       "ShareWomen              1\n",
       "Sample_size             0\n",
       "Total_employed          0\n",
       "Full_time_employed      0\n",
       "Part_time_employed      0\n",
       "Full_time_year_round    0\n",
       "Unemployed              0\n",
       "Unemployment_rate       0\n",
       "Median_salary           0\n",
       "P25th                   0\n",
       "P75th                   0\n",
       "College_jobs            0\n",
       "Non_college_jobs        0\n",
       "Low_wage_jobs           0\n",
       "dtype: int64"
      ]
     },
     "execution_count": 7,
     "metadata": {},
     "output_type": "execute_result"
    }
   ],
   "source": [
    "# Print null values count\n",
    "recent_grads.isnull().sum()"
   ]
  },
  {
   "cell_type": "markdown",
   "metadata": {},
   "source": [
    "~~Luckily for us, it seems like the data...~~ sorry, SORRY, I am really sorry but I can't hold off my curiosity: before moving on I HAVE TO find out how my major ranks. I've got a feeling I might regret this decision but let's see."
   ]
  },
  {
   "cell_type": "code",
   "execution_count": 8,
   "metadata": {},
   "outputs": [
    {
     "data": {
      "text/html": [
       "<div>\n",
       "<style scoped>\n",
       "    .dataframe tbody tr th:only-of-type {\n",
       "        vertical-align: middle;\n",
       "    }\n",
       "\n",
       "    .dataframe tbody tr th {\n",
       "        vertical-align: top;\n",
       "    }\n",
       "\n",
       "    .dataframe thead th {\n",
       "        text-align: right;\n",
       "    }\n",
       "</style>\n",
       "<table border=\"1\" class=\"dataframe\">\n",
       "  <thead>\n",
       "    <tr style=\"text-align: right;\">\n",
       "      <th></th>\n",
       "      <th>Rank</th>\n",
       "      <th>Major</th>\n",
       "    </tr>\n",
       "  </thead>\n",
       "  <tbody>\n",
       "    <tr>\n",
       "      <th>41</th>\n",
       "      <td>42</td>\n",
       "      <td>MATHEMATICS</td>\n",
       "    </tr>\n",
       "  </tbody>\n",
       "</table>\n",
       "</div>"
      ],
      "text/plain": [
       "    Rank        Major\n",
       "41    42  MATHEMATICS"
      ]
     },
     "execution_count": 8,
     "metadata": {},
     "output_type": "execute_result"
    }
   ],
   "source": [
    "# Find the rank of Mathematics major (i.e., my major)\n",
    "recent_grads.loc[recent_grads[\"Major\"] == \"MATHEMATICS\", [\"Rank\", \"Major\"]]"
   ]
  },
  {
   "cell_type": "markdown",
   "metadata": {},
   "source": [
    "Oh look at that, we made it to the top 50: that's not bad at all. \n",
    "\n",
    "Anyways, I was saying: luckily for us, it seems like the data doesn't need much cleaning. Only 4 of the 21 columns contain null values and, the ones that do, only contain a single one. Let's see how we can take care of this missing data."
   ]
  },
  {
   "cell_type": "code",
   "execution_count": 9,
   "metadata": {},
   "outputs": [],
   "source": [
    "# Get the row count of current dataframe (we already know it's 173) \n",
    "raw_data_row_count = recent_grads.shape[0]"
   ]
  },
  {
   "cell_type": "code",
   "execution_count": 10,
   "metadata": {},
   "outputs": [],
   "source": [
    "# Drop any row with at least a null value and get the row count of this new dataframe\n",
    "cleaned_recent_grads = recent_grads.dropna(axis = 0)\n",
    "cleaned_data_row_count = cleaned_recent_grads.shape[0]"
   ]
  },
  {
   "cell_type": "code",
   "execution_count": 11,
   "metadata": {},
   "outputs": [
    {
     "name": "stdout",
     "output_type": "stream",
     "text": [
      "The original dataframe contains 173 rows.\n",
      "After dropping rows with null values the dataframe contains 172 rows.\n"
     ]
    }
   ],
   "source": [
    "print(f\"The original dataframe contains {raw_data_row_count} rows.\")\n",
    "print(f\"After dropping rows with null values the dataframe contains {cleaned_data_row_count} rows.\")"
   ]
  },
  {
   "cell_type": "markdown",
   "metadata": {},
   "source": [
    "Oh, amazing! By dropping the rows containing null values, we only lost one datapoint. This means that the 4 missing values must have all appeared in the same row. \n",
    "\n",
    "Since we want to do some data visualization and `matplotlib` doesn't know how to handle null values, I'll just go ahead and get rid of this incomplete row."
   ]
  },
  {
   "cell_type": "code",
   "execution_count": 12,
   "metadata": {},
   "outputs": [],
   "source": [
    "recent_grads = cleaned_recent_grads"
   ]
  },
  {
   "cell_type": "markdown",
   "metadata": {},
   "source": [
    "Let's get more information about the columns."
   ]
  },
  {
   "cell_type": "code",
   "execution_count": 13,
   "metadata": {},
   "outputs": [
    {
     "name": "stdout",
     "output_type": "stream",
     "text": [
      "<class 'pandas.core.frame.DataFrame'>\n",
      "Int64Index: 172 entries, 0 to 172\n",
      "Data columns (total 21 columns):\n",
      " #   Column                Non-Null Count  Dtype  \n",
      "---  ------                --------------  -----  \n",
      " 0   Rank                  172 non-null    int64  \n",
      " 1   Major_code            172 non-null    int64  \n",
      " 2   Major                 172 non-null    object \n",
      " 3   Total_graduates       172 non-null    float64\n",
      " 4   Men_graduates         172 non-null    float64\n",
      " 5   Women_graduates       172 non-null    float64\n",
      " 6   Major_category        172 non-null    object \n",
      " 7   ShareWomen            172 non-null    float64\n",
      " 8   Sample_size           172 non-null    int64  \n",
      " 9   Total_employed        172 non-null    int64  \n",
      " 10  Full_time_employed    172 non-null    int64  \n",
      " 11  Part_time_employed    172 non-null    int64  \n",
      " 12  Full_time_year_round  172 non-null    int64  \n",
      " 13  Unemployed            172 non-null    int64  \n",
      " 14  Unemployment_rate     172 non-null    float64\n",
      " 15  Median_salary         172 non-null    int64  \n",
      " 16  P25th                 172 non-null    int64  \n",
      " 17  P75th                 172 non-null    int64  \n",
      " 18  College_jobs          172 non-null    int64  \n",
      " 19  Non_college_jobs      172 non-null    int64  \n",
      " 20  Low_wage_jobs         172 non-null    int64  \n",
      "dtypes: float64(5), int64(14), object(2)\n",
      "memory usage: 29.6+ KB\n"
     ]
    }
   ],
   "source": [
    "# Print the columns info\n",
    "recent_grads.info()"
   ]
  },
  {
   "cell_type": "markdown",
   "metadata": {},
   "source": [
    "Nearly all columns are of numeric type (most of them integer, a few of them float): keeping in mind the description of their content which we gave after loading the CSV file, this makes total sense. "
   ]
  },
  {
   "cell_type": "markdown",
   "metadata": {},
   "source": [
    "To get a collective idea of what values to expect, let's take a look at some summary statistics of each numeric column.  "
   ]
  },
  {
   "cell_type": "code",
   "execution_count": 14,
   "metadata": {},
   "outputs": [
    {
     "data": {
      "text/html": [
       "<div>\n",
       "<style scoped>\n",
       "    .dataframe tbody tr th:only-of-type {\n",
       "        vertical-align: middle;\n",
       "    }\n",
       "\n",
       "    .dataframe tbody tr th {\n",
       "        vertical-align: top;\n",
       "    }\n",
       "\n",
       "    .dataframe thead th {\n",
       "        text-align: right;\n",
       "    }\n",
       "</style>\n",
       "<table border=\"1\" class=\"dataframe\">\n",
       "  <thead>\n",
       "    <tr style=\"text-align: right;\">\n",
       "      <th></th>\n",
       "      <th>Rank</th>\n",
       "      <th>Major_code</th>\n",
       "      <th>Total_graduates</th>\n",
       "      <th>Men_graduates</th>\n",
       "      <th>Women_graduates</th>\n",
       "      <th>ShareWomen</th>\n",
       "      <th>Sample_size</th>\n",
       "      <th>Total_employed</th>\n",
       "      <th>Full_time_employed</th>\n",
       "      <th>Part_time_employed</th>\n",
       "      <th>Full_time_year_round</th>\n",
       "      <th>Unemployed</th>\n",
       "      <th>Unemployment_rate</th>\n",
       "      <th>Median_salary</th>\n",
       "      <th>P25th</th>\n",
       "      <th>P75th</th>\n",
       "      <th>College_jobs</th>\n",
       "      <th>Non_college_jobs</th>\n",
       "      <th>Low_wage_jobs</th>\n",
       "    </tr>\n",
       "  </thead>\n",
       "  <tbody>\n",
       "    <tr>\n",
       "      <th>count</th>\n",
       "      <td>172.000000</td>\n",
       "      <td>172.000000</td>\n",
       "      <td>172.000000</td>\n",
       "      <td>172.000000</td>\n",
       "      <td>172.000000</td>\n",
       "      <td>172.000000</td>\n",
       "      <td>172.000000</td>\n",
       "      <td>172.00000</td>\n",
       "      <td>172.000000</td>\n",
       "      <td>172.000000</td>\n",
       "      <td>172.000000</td>\n",
       "      <td>172.000000</td>\n",
       "      <td>172.000000</td>\n",
       "      <td>172.000000</td>\n",
       "      <td>172.000000</td>\n",
       "      <td>172.000000</td>\n",
       "      <td>172.000000</td>\n",
       "      <td>172.000000</td>\n",
       "      <td>172.000000</td>\n",
       "    </tr>\n",
       "    <tr>\n",
       "      <th>mean</th>\n",
       "      <td>87.377907</td>\n",
       "      <td>3895.953488</td>\n",
       "      <td>39370.081395</td>\n",
       "      <td>16723.406977</td>\n",
       "      <td>22646.674419</td>\n",
       "      <td>0.522223</td>\n",
       "      <td>357.941860</td>\n",
       "      <td>31355.80814</td>\n",
       "      <td>26165.767442</td>\n",
       "      <td>8877.232558</td>\n",
       "      <td>19798.843023</td>\n",
       "      <td>2428.412791</td>\n",
       "      <td>0.068024</td>\n",
       "      <td>40076.744186</td>\n",
       "      <td>29486.918605</td>\n",
       "      <td>51386.627907</td>\n",
       "      <td>12387.401163</td>\n",
       "      <td>13354.325581</td>\n",
       "      <td>3878.633721</td>\n",
       "    </tr>\n",
       "    <tr>\n",
       "      <th>std</th>\n",
       "      <td>49.983181</td>\n",
       "      <td>1679.240095</td>\n",
       "      <td>63483.491009</td>\n",
       "      <td>28122.433474</td>\n",
       "      <td>41057.330740</td>\n",
       "      <td>0.231205</td>\n",
       "      <td>619.680419</td>\n",
       "      <td>50777.42865</td>\n",
       "      <td>42957.122320</td>\n",
       "      <td>14679.038729</td>\n",
       "      <td>33229.227514</td>\n",
       "      <td>4121.730452</td>\n",
       "      <td>0.030340</td>\n",
       "      <td>11461.388773</td>\n",
       "      <td>9190.769927</td>\n",
       "      <td>14882.278650</td>\n",
       "      <td>21344.967522</td>\n",
       "      <td>23841.326605</td>\n",
       "      <td>6960.467621</td>\n",
       "    </tr>\n",
       "    <tr>\n",
       "      <th>min</th>\n",
       "      <td>1.000000</td>\n",
       "      <td>1100.000000</td>\n",
       "      <td>124.000000</td>\n",
       "      <td>119.000000</td>\n",
       "      <td>0.000000</td>\n",
       "      <td>0.000000</td>\n",
       "      <td>2.000000</td>\n",
       "      <td>0.00000</td>\n",
       "      <td>111.000000</td>\n",
       "      <td>0.000000</td>\n",
       "      <td>111.000000</td>\n",
       "      <td>0.000000</td>\n",
       "      <td>0.000000</td>\n",
       "      <td>22000.000000</td>\n",
       "      <td>18500.000000</td>\n",
       "      <td>22000.000000</td>\n",
       "      <td>0.000000</td>\n",
       "      <td>0.000000</td>\n",
       "      <td>0.000000</td>\n",
       "    </tr>\n",
       "    <tr>\n",
       "      <th>25%</th>\n",
       "      <td>44.750000</td>\n",
       "      <td>2403.750000</td>\n",
       "      <td>4549.750000</td>\n",
       "      <td>2177.500000</td>\n",
       "      <td>1778.250000</td>\n",
       "      <td>0.336026</td>\n",
       "      <td>42.000000</td>\n",
       "      <td>3734.75000</td>\n",
       "      <td>3181.000000</td>\n",
       "      <td>1013.750000</td>\n",
       "      <td>2474.750000</td>\n",
       "      <td>299.500000</td>\n",
       "      <td>0.050261</td>\n",
       "      <td>33000.000000</td>\n",
       "      <td>24000.000000</td>\n",
       "      <td>41750.000000</td>\n",
       "      <td>1744.750000</td>\n",
       "      <td>1594.000000</td>\n",
       "      <td>336.750000</td>\n",
       "    </tr>\n",
       "    <tr>\n",
       "      <th>50%</th>\n",
       "      <td>87.500000</td>\n",
       "      <td>3608.500000</td>\n",
       "      <td>15104.000000</td>\n",
       "      <td>5434.000000</td>\n",
       "      <td>8386.500000</td>\n",
       "      <td>0.534024</td>\n",
       "      <td>131.000000</td>\n",
       "      <td>12031.50000</td>\n",
       "      <td>10073.500000</td>\n",
       "      <td>3332.500000</td>\n",
       "      <td>7436.500000</td>\n",
       "      <td>905.000000</td>\n",
       "      <td>0.067544</td>\n",
       "      <td>36000.000000</td>\n",
       "      <td>27000.000000</td>\n",
       "      <td>47000.000000</td>\n",
       "      <td>4467.500000</td>\n",
       "      <td>4603.500000</td>\n",
       "      <td>1238.500000</td>\n",
       "    </tr>\n",
       "    <tr>\n",
       "      <th>75%</th>\n",
       "      <td>130.250000</td>\n",
       "      <td>5503.250000</td>\n",
       "      <td>38909.750000</td>\n",
       "      <td>14631.000000</td>\n",
       "      <td>22553.750000</td>\n",
       "      <td>0.703299</td>\n",
       "      <td>339.000000</td>\n",
       "      <td>31701.25000</td>\n",
       "      <td>25447.250000</td>\n",
       "      <td>9981.000000</td>\n",
       "      <td>17674.750000</td>\n",
       "      <td>2397.000000</td>\n",
       "      <td>0.087247</td>\n",
       "      <td>45000.000000</td>\n",
       "      <td>33250.000000</td>\n",
       "      <td>58500.000000</td>\n",
       "      <td>14595.750000</td>\n",
       "      <td>11791.750000</td>\n",
       "      <td>3496.000000</td>\n",
       "    </tr>\n",
       "    <tr>\n",
       "      <th>max</th>\n",
       "      <td>173.000000</td>\n",
       "      <td>6403.000000</td>\n",
       "      <td>393735.000000</td>\n",
       "      <td>173809.000000</td>\n",
       "      <td>307087.000000</td>\n",
       "      <td>0.968954</td>\n",
       "      <td>4212.000000</td>\n",
       "      <td>307933.00000</td>\n",
       "      <td>251540.000000</td>\n",
       "      <td>115172.000000</td>\n",
       "      <td>199897.000000</td>\n",
       "      <td>28169.000000</td>\n",
       "      <td>0.177226</td>\n",
       "      <td>110000.000000</td>\n",
       "      <td>95000.000000</td>\n",
       "      <td>125000.000000</td>\n",
       "      <td>151643.000000</td>\n",
       "      <td>148395.000000</td>\n",
       "      <td>48207.000000</td>\n",
       "    </tr>\n",
       "  </tbody>\n",
       "</table>\n",
       "</div>"
      ],
      "text/plain": [
       "             Rank   Major_code  Total_graduates  Men_graduates  \\\n",
       "count  172.000000   172.000000       172.000000     172.000000   \n",
       "mean    87.377907  3895.953488     39370.081395   16723.406977   \n",
       "std     49.983181  1679.240095     63483.491009   28122.433474   \n",
       "min      1.000000  1100.000000       124.000000     119.000000   \n",
       "25%     44.750000  2403.750000      4549.750000    2177.500000   \n",
       "50%     87.500000  3608.500000     15104.000000    5434.000000   \n",
       "75%    130.250000  5503.250000     38909.750000   14631.000000   \n",
       "max    173.000000  6403.000000    393735.000000  173809.000000   \n",
       "\n",
       "       Women_graduates  ShareWomen  Sample_size  Total_employed  \\\n",
       "count       172.000000  172.000000   172.000000       172.00000   \n",
       "mean      22646.674419    0.522223   357.941860     31355.80814   \n",
       "std       41057.330740    0.231205   619.680419     50777.42865   \n",
       "min           0.000000    0.000000     2.000000         0.00000   \n",
       "25%        1778.250000    0.336026    42.000000      3734.75000   \n",
       "50%        8386.500000    0.534024   131.000000     12031.50000   \n",
       "75%       22553.750000    0.703299   339.000000     31701.25000   \n",
       "max      307087.000000    0.968954  4212.000000    307933.00000   \n",
       "\n",
       "       Full_time_employed  Part_time_employed  Full_time_year_round  \\\n",
       "count          172.000000          172.000000            172.000000   \n",
       "mean         26165.767442         8877.232558          19798.843023   \n",
       "std          42957.122320        14679.038729          33229.227514   \n",
       "min            111.000000            0.000000            111.000000   \n",
       "25%           3181.000000         1013.750000           2474.750000   \n",
       "50%          10073.500000         3332.500000           7436.500000   \n",
       "75%          25447.250000         9981.000000          17674.750000   \n",
       "max         251540.000000       115172.000000         199897.000000   \n",
       "\n",
       "         Unemployed  Unemployment_rate  Median_salary         P25th  \\\n",
       "count    172.000000         172.000000     172.000000    172.000000   \n",
       "mean    2428.412791           0.068024   40076.744186  29486.918605   \n",
       "std     4121.730452           0.030340   11461.388773   9190.769927   \n",
       "min        0.000000           0.000000   22000.000000  18500.000000   \n",
       "25%      299.500000           0.050261   33000.000000  24000.000000   \n",
       "50%      905.000000           0.067544   36000.000000  27000.000000   \n",
       "75%     2397.000000           0.087247   45000.000000  33250.000000   \n",
       "max    28169.000000           0.177226  110000.000000  95000.000000   \n",
       "\n",
       "               P75th   College_jobs  Non_college_jobs  Low_wage_jobs  \n",
       "count     172.000000     172.000000        172.000000     172.000000  \n",
       "mean    51386.627907   12387.401163      13354.325581    3878.633721  \n",
       "std     14882.278650   21344.967522      23841.326605    6960.467621  \n",
       "min     22000.000000       0.000000          0.000000       0.000000  \n",
       "25%     41750.000000    1744.750000       1594.000000     336.750000  \n",
       "50%     47000.000000    4467.500000       4603.500000    1238.500000  \n",
       "75%     58500.000000   14595.750000      11791.750000    3496.000000  \n",
       "max    125000.000000  151643.000000     148395.000000   48207.000000  "
      ]
     },
     "execution_count": 14,
     "metadata": {},
     "output_type": "execute_result"
    }
   ],
   "source": [
    "# Print summary statistics of numeric columns\n",
    "recent_grads.describe()"
   ]
  },
  {
   "cell_type": "markdown",
   "metadata": {},
   "source": [
    "We notice some suspicious minimum values in a few of the columns. Let's take a closer look at this issue."
   ]
  },
  {
   "cell_type": "code",
   "execution_count": 15,
   "metadata": {},
   "outputs": [
    {
     "data": {
      "text/html": [
       "<div>\n",
       "<style scoped>\n",
       "    .dataframe tbody tr th:only-of-type {\n",
       "        vertical-align: middle;\n",
       "    }\n",
       "\n",
       "    .dataframe tbody tr th {\n",
       "        vertical-align: top;\n",
       "    }\n",
       "\n",
       "    .dataframe thead th {\n",
       "        text-align: right;\n",
       "    }\n",
       "</style>\n",
       "<table border=\"1\" class=\"dataframe\">\n",
       "  <thead>\n",
       "    <tr style=\"text-align: right;\">\n",
       "      <th></th>\n",
       "      <th>Rank</th>\n",
       "      <th>Major_code</th>\n",
       "      <th>Major</th>\n",
       "      <th>Total_graduates</th>\n",
       "      <th>Men_graduates</th>\n",
       "      <th>Women_graduates</th>\n",
       "      <th>Major_category</th>\n",
       "      <th>ShareWomen</th>\n",
       "      <th>Sample_size</th>\n",
       "      <th>Total_employed</th>\n",
       "      <th>Full_time_employed</th>\n",
       "      <th>Part_time_employed</th>\n",
       "      <th>Full_time_year_round</th>\n",
       "      <th>Unemployed</th>\n",
       "      <th>Unemployment_rate</th>\n",
       "      <th>Median_salary</th>\n",
       "      <th>P25th</th>\n",
       "      <th>P75th</th>\n",
       "      <th>College_jobs</th>\n",
       "      <th>Non_college_jobs</th>\n",
       "      <th>Low_wage_jobs</th>\n",
       "    </tr>\n",
       "  </thead>\n",
       "  <tbody>\n",
       "    <tr>\n",
       "      <th>73</th>\n",
       "      <td>74</td>\n",
       "      <td>3801</td>\n",
       "      <td>MILITARY TECHNOLOGIES</td>\n",
       "      <td>124.0</td>\n",
       "      <td>124.0</td>\n",
       "      <td>0.0</td>\n",
       "      <td>Industrial Arts &amp; Consumer Services</td>\n",
       "      <td>0.0</td>\n",
       "      <td>4</td>\n",
       "      <td>0</td>\n",
       "      <td>111</td>\n",
       "      <td>0</td>\n",
       "      <td>111</td>\n",
       "      <td>0</td>\n",
       "      <td>0.0</td>\n",
       "      <td>40000</td>\n",
       "      <td>40000</td>\n",
       "      <td>40000</td>\n",
       "      <td>0</td>\n",
       "      <td>0</td>\n",
       "      <td>0</td>\n",
       "    </tr>\n",
       "  </tbody>\n",
       "</table>\n",
       "</div>"
      ],
      "text/plain": [
       "    Rank  Major_code                  Major  Total_graduates  Men_graduates  \\\n",
       "73    74        3801  MILITARY TECHNOLOGIES            124.0          124.0   \n",
       "\n",
       "    Women_graduates                       Major_category  ShareWomen  \\\n",
       "73              0.0  Industrial Arts & Consumer Services         0.0   \n",
       "\n",
       "    Sample_size  Total_employed  Full_time_employed  Part_time_employed  \\\n",
       "73            4               0                 111                   0   \n",
       "\n",
       "    Full_time_year_round  Unemployed  Unemployment_rate  Median_salary  P25th  \\\n",
       "73                   111           0                0.0          40000  40000   \n",
       "\n",
       "    P75th  College_jobs  Non_college_jobs  Low_wage_jobs  \n",
       "73  40000             0                 0              0  "
      ]
     },
     "execution_count": 15,
     "metadata": {},
     "output_type": "execute_result"
    }
   ],
   "source": [
    "# Show majors with no women graduates or no employed graduates\n",
    "mask = (recent_grads[\"Women_graduates\"] == 0) | (recent_grads[\"Total_employed\"] == 0)\n",
    "recent_grads[mask]"
   ]
  },
  {
   "cell_type": "markdown",
   "metadata": {},
   "source": [
    "I guess it's possible no women graduated in *Military Technologies* but the values in `Employed` and `Full_time` are clearly conflicting. Since a few additional columns have fishy zero values, rather than taking the risk of using corrupted data, I prefer to get rid of this major.  "
   ]
  },
  {
   "cell_type": "code",
   "execution_count": 16,
   "metadata": {},
   "outputs": [],
   "source": [
    "# Drop the Military Technologies major (it has invalid values)\n",
    "recent_grads.drop(73, axis = 0, inplace = True)"
   ]
  },
  {
   "cell_type": "markdown",
   "metadata": {},
   "source": [
    "We might still have rows with zero values in the `Unemployed` and `Unemployment_rate` columns. That sounds too good to be true. Let's investigate.  "
   ]
  },
  {
   "cell_type": "code",
   "execution_count": 17,
   "metadata": {},
   "outputs": [
    {
     "data": {
      "text/html": [
       "<div>\n",
       "<style scoped>\n",
       "    .dataframe tbody tr th:only-of-type {\n",
       "        vertical-align: middle;\n",
       "    }\n",
       "\n",
       "    .dataframe tbody tr th {\n",
       "        vertical-align: top;\n",
       "    }\n",
       "\n",
       "    .dataframe thead th {\n",
       "        text-align: right;\n",
       "    }\n",
       "</style>\n",
       "<table border=\"1\" class=\"dataframe\">\n",
       "  <thead>\n",
       "    <tr style=\"text-align: right;\">\n",
       "      <th></th>\n",
       "      <th>Rank</th>\n",
       "      <th>Major_code</th>\n",
       "      <th>Major</th>\n",
       "      <th>Total_graduates</th>\n",
       "      <th>Men_graduates</th>\n",
       "      <th>Women_graduates</th>\n",
       "      <th>Major_category</th>\n",
       "      <th>ShareWomen</th>\n",
       "      <th>Sample_size</th>\n",
       "      <th>Total_employed</th>\n",
       "      <th>Full_time_employed</th>\n",
       "      <th>Part_time_employed</th>\n",
       "      <th>Full_time_year_round</th>\n",
       "      <th>Unemployed</th>\n",
       "      <th>Unemployment_rate</th>\n",
       "      <th>Median_salary</th>\n",
       "      <th>P25th</th>\n",
       "      <th>P75th</th>\n",
       "      <th>College_jobs</th>\n",
       "      <th>Non_college_jobs</th>\n",
       "      <th>Low_wage_jobs</th>\n",
       "    </tr>\n",
       "  </thead>\n",
       "  <tbody>\n",
       "    <tr>\n",
       "      <th>52</th>\n",
       "      <td>53</td>\n",
       "      <td>4005</td>\n",
       "      <td>MATHEMATICS AND COMPUTER SCIENCE</td>\n",
       "      <td>609.0</td>\n",
       "      <td>500.0</td>\n",
       "      <td>109.0</td>\n",
       "      <td>Computers &amp; Mathematics</td>\n",
       "      <td>0.178982</td>\n",
       "      <td>7</td>\n",
       "      <td>559</td>\n",
       "      <td>584</td>\n",
       "      <td>0</td>\n",
       "      <td>391</td>\n",
       "      <td>0</td>\n",
       "      <td>0.0</td>\n",
       "      <td>42000</td>\n",
       "      <td>30000</td>\n",
       "      <td>78000</td>\n",
       "      <td>452</td>\n",
       "      <td>67</td>\n",
       "      <td>25</td>\n",
       "    </tr>\n",
       "    <tr>\n",
       "      <th>83</th>\n",
       "      <td>84</td>\n",
       "      <td>3602</td>\n",
       "      <td>BOTANY</td>\n",
       "      <td>1329.0</td>\n",
       "      <td>626.0</td>\n",
       "      <td>703.0</td>\n",
       "      <td>Biology &amp; Life Science</td>\n",
       "      <td>0.528969</td>\n",
       "      <td>9</td>\n",
       "      <td>1010</td>\n",
       "      <td>946</td>\n",
       "      <td>169</td>\n",
       "      <td>740</td>\n",
       "      <td>0</td>\n",
       "      <td>0.0</td>\n",
       "      <td>37000</td>\n",
       "      <td>26000</td>\n",
       "      <td>40000</td>\n",
       "      <td>677</td>\n",
       "      <td>184</td>\n",
       "      <td>56</td>\n",
       "    </tr>\n",
       "    <tr>\n",
       "      <th>112</th>\n",
       "      <td>113</td>\n",
       "      <td>1106</td>\n",
       "      <td>SOIL SCIENCE</td>\n",
       "      <td>685.0</td>\n",
       "      <td>476.0</td>\n",
       "      <td>209.0</td>\n",
       "      <td>Agriculture &amp; Natural Resources</td>\n",
       "      <td>0.305109</td>\n",
       "      <td>4</td>\n",
       "      <td>613</td>\n",
       "      <td>488</td>\n",
       "      <td>185</td>\n",
       "      <td>383</td>\n",
       "      <td>0</td>\n",
       "      <td>0.0</td>\n",
       "      <td>35000</td>\n",
       "      <td>18500</td>\n",
       "      <td>44000</td>\n",
       "      <td>355</td>\n",
       "      <td>144</td>\n",
       "      <td>0</td>\n",
       "    </tr>\n",
       "    <tr>\n",
       "      <th>120</th>\n",
       "      <td>121</td>\n",
       "      <td>2301</td>\n",
       "      <td>EDUCATIONAL ADMINISTRATION AND SUPERVISION</td>\n",
       "      <td>804.0</td>\n",
       "      <td>280.0</td>\n",
       "      <td>524.0</td>\n",
       "      <td>Education</td>\n",
       "      <td>0.651741</td>\n",
       "      <td>5</td>\n",
       "      <td>703</td>\n",
       "      <td>733</td>\n",
       "      <td>0</td>\n",
       "      <td>504</td>\n",
       "      <td>0</td>\n",
       "      <td>0.0</td>\n",
       "      <td>34000</td>\n",
       "      <td>29000</td>\n",
       "      <td>35000</td>\n",
       "      <td>346</td>\n",
       "      <td>206</td>\n",
       "      <td>111</td>\n",
       "    </tr>\n",
       "  </tbody>\n",
       "</table>\n",
       "</div>"
      ],
      "text/plain": [
       "     Rank  Major_code                                       Major  \\\n",
       "52     53        4005            MATHEMATICS AND COMPUTER SCIENCE   \n",
       "83     84        3602                                      BOTANY   \n",
       "112   113        1106                                SOIL SCIENCE   \n",
       "120   121        2301  EDUCATIONAL ADMINISTRATION AND SUPERVISION   \n",
       "\n",
       "     Total_graduates  Men_graduates  Women_graduates  \\\n",
       "52             609.0          500.0            109.0   \n",
       "83            1329.0          626.0            703.0   \n",
       "112            685.0          476.0            209.0   \n",
       "120            804.0          280.0            524.0   \n",
       "\n",
       "                      Major_category  ShareWomen  Sample_size  Total_employed  \\\n",
       "52           Computers & Mathematics    0.178982            7             559   \n",
       "83            Biology & Life Science    0.528969            9            1010   \n",
       "112  Agriculture & Natural Resources    0.305109            4             613   \n",
       "120                        Education    0.651741            5             703   \n",
       "\n",
       "     Full_time_employed  Part_time_employed  Full_time_year_round  Unemployed  \\\n",
       "52                  584                   0                   391           0   \n",
       "83                  946                 169                   740           0   \n",
       "112                 488                 185                   383           0   \n",
       "120                 733                   0                   504           0   \n",
       "\n",
       "     Unemployment_rate  Median_salary  P25th  P75th  College_jobs  \\\n",
       "52                 0.0          42000  30000  78000           452   \n",
       "83                 0.0          37000  26000  40000           677   \n",
       "112                0.0          35000  18500  44000           355   \n",
       "120                0.0          34000  29000  35000           346   \n",
       "\n",
       "     Non_college_jobs  Low_wage_jobs  \n",
       "52                 67             25  \n",
       "83                184             56  \n",
       "112               144              0  \n",
       "120               206            111  "
      ]
     },
     "execution_count": 17,
     "metadata": {},
     "output_type": "execute_result"
    }
   ],
   "source": [
    "# Show majors with no unemployed graduates or no unemployment rate\n",
    "mask = (recent_grads[\"Unemployed\"] == 0) | (recent_grads[\"Unemployment_rate\"] == 0)\n",
    "recent_grads[mask]"
   ]
  },
  {
   "cell_type": "markdown",
   "metadata": {},
   "source": [
    "For these four majors, the number of total graduates is strictly greater than the number of employed graduates so the zero values in the `Unemployed` and `Unemployment_rate` columns must be wrong. Luckily, we can quickly calculate the correct values using basic operations on the other information we have."
   ]
  },
  {
   "cell_type": "code",
   "execution_count": 18,
   "metadata": {},
   "outputs": [],
   "source": [
    "# Calculate \"Unemployed graduates\" as \"Total graduates\" - \"Employed graduates\"\n",
    "recent_grads.loc[mask, \"Unemployed\"] = recent_grads.loc[mask, \"Total_graduates\"] - recent_grads.loc[mask, \"Total_employed\"]\n",
    "\n",
    "# Calculate \"Unemployment rate\" as \"Unemployed graduates\" / \"Total graduates\"\n",
    "recent_grads.loc[mask, \"Unemployment_rate\"] = recent_grads.loc[mask, \"Unemployed\"] / recent_grads.loc[mask, \"Total_employed\"]"
   ]
  },
  {
   "cell_type": "code",
   "execution_count": 19,
   "metadata": {},
   "outputs": [
    {
     "data": {
      "text/html": [
       "<div>\n",
       "<style scoped>\n",
       "    .dataframe tbody tr th:only-of-type {\n",
       "        vertical-align: middle;\n",
       "    }\n",
       "\n",
       "    .dataframe tbody tr th {\n",
       "        vertical-align: top;\n",
       "    }\n",
       "\n",
       "    .dataframe thead th {\n",
       "        text-align: right;\n",
       "    }\n",
       "</style>\n",
       "<table border=\"1\" class=\"dataframe\">\n",
       "  <thead>\n",
       "    <tr style=\"text-align: right;\">\n",
       "      <th></th>\n",
       "      <th>Rank</th>\n",
       "      <th>Major_code</th>\n",
       "      <th>Total_graduates</th>\n",
       "      <th>Men_graduates</th>\n",
       "      <th>Women_graduates</th>\n",
       "      <th>ShareWomen</th>\n",
       "      <th>Sample_size</th>\n",
       "      <th>Total_employed</th>\n",
       "      <th>Full_time_employed</th>\n",
       "      <th>Part_time_employed</th>\n",
       "      <th>Full_time_year_round</th>\n",
       "      <th>Unemployed</th>\n",
       "      <th>Unemployment_rate</th>\n",
       "      <th>Median_salary</th>\n",
       "      <th>P25th</th>\n",
       "      <th>P75th</th>\n",
       "      <th>College_jobs</th>\n",
       "      <th>Non_college_jobs</th>\n",
       "      <th>Low_wage_jobs</th>\n",
       "    </tr>\n",
       "  </thead>\n",
       "  <tbody>\n",
       "    <tr>\n",
       "      <th>count</th>\n",
       "      <td>171.000000</td>\n",
       "      <td>171.000000</td>\n",
       "      <td>171.000000</td>\n",
       "      <td>171.000000</td>\n",
       "      <td>171.000000</td>\n",
       "      <td>171.000000</td>\n",
       "      <td>171.000000</td>\n",
       "      <td>171.000000</td>\n",
       "      <td>171.000000</td>\n",
       "      <td>171.000000</td>\n",
       "      <td>171.000000</td>\n",
       "      <td>171.000000</td>\n",
       "      <td>171.000000</td>\n",
       "      <td>171.000000</td>\n",
       "      <td>171.000000</td>\n",
       "      <td>171.000000</td>\n",
       "      <td>171.000000</td>\n",
       "      <td>171.000000</td>\n",
       "      <td>171.000000</td>\n",
       "    </tr>\n",
       "    <tr>\n",
       "      <th>mean</th>\n",
       "      <td>87.456140</td>\n",
       "      <td>3896.508772</td>\n",
       "      <td>39599.590643</td>\n",
       "      <td>16820.479532</td>\n",
       "      <td>22779.111111</td>\n",
       "      <td>0.525277</td>\n",
       "      <td>360.011696</td>\n",
       "      <td>31539.175439</td>\n",
       "      <td>26318.134503</td>\n",
       "      <td>8929.146199</td>\n",
       "      <td>19913.976608</td>\n",
       "      <td>2445.783626</td>\n",
       "      <td>0.072319</td>\n",
       "      <td>40077.192982</td>\n",
       "      <td>29425.438596</td>\n",
       "      <td>51453.216374</td>\n",
       "      <td>12459.842105</td>\n",
       "      <td>13432.421053</td>\n",
       "      <td>3901.315789</td>\n",
       "    </tr>\n",
       "    <tr>\n",
       "      <th>std</th>\n",
       "      <td>50.119412</td>\n",
       "      <td>1684.155957</td>\n",
       "      <td>63598.326310</td>\n",
       "      <td>28176.109465</td>\n",
       "      <td>41141.047383</td>\n",
       "      <td>0.228378</td>\n",
       "      <td>620.903734</td>\n",
       "      <td>50869.408650</td>\n",
       "      <td>43036.642009</td>\n",
       "      <td>14706.304837</td>\n",
       "      <td>33292.391735</td>\n",
       "      <td>4127.810734</td>\n",
       "      <td>0.034398</td>\n",
       "      <td>11495.047796</td>\n",
       "      <td>9182.221262</td>\n",
       "      <td>14900.265637</td>\n",
       "      <td>21386.438959</td>\n",
       "      <td>23889.270685</td>\n",
       "      <td>6974.531378</td>\n",
       "    </tr>\n",
       "    <tr>\n",
       "      <th>min</th>\n",
       "      <td>1.000000</td>\n",
       "      <td>1100.000000</td>\n",
       "      <td>609.000000</td>\n",
       "      <td>119.000000</td>\n",
       "      <td>77.000000</td>\n",
       "      <td>0.077453</td>\n",
       "      <td>2.000000</td>\n",
       "      <td>559.000000</td>\n",
       "      <td>488.000000</td>\n",
       "      <td>0.000000</td>\n",
       "      <td>340.000000</td>\n",
       "      <td>11.000000</td>\n",
       "      <td>0.006334</td>\n",
       "      <td>22000.000000</td>\n",
       "      <td>18500.000000</td>\n",
       "      <td>22000.000000</td>\n",
       "      <td>162.000000</td>\n",
       "      <td>50.000000</td>\n",
       "      <td>0.000000</td>\n",
       "    </tr>\n",
       "    <tr>\n",
       "      <th>25%</th>\n",
       "      <td>44.500000</td>\n",
       "      <td>2403.500000</td>\n",
       "      <td>4628.500000</td>\n",
       "      <td>2268.500000</td>\n",
       "      <td>1829.000000</td>\n",
       "      <td>0.340248</td>\n",
       "      <td>43.500000</td>\n",
       "      <td>3815.500000</td>\n",
       "      <td>3197.000000</td>\n",
       "      <td>1035.000000</td>\n",
       "      <td>2537.500000</td>\n",
       "      <td>308.000000</td>\n",
       "      <td>0.052384</td>\n",
       "      <td>33000.000000</td>\n",
       "      <td>24000.000000</td>\n",
       "      <td>42000.000000</td>\n",
       "      <td>1788.000000</td>\n",
       "      <td>1624.500000</td>\n",
       "      <td>341.500000</td>\n",
       "    </tr>\n",
       "    <tr>\n",
       "      <th>50%</th>\n",
       "      <td>88.000000</td>\n",
       "      <td>3608.000000</td>\n",
       "      <td>15150.000000</td>\n",
       "      <td>5521.000000</td>\n",
       "      <td>8489.000000</td>\n",
       "      <td>0.535714</td>\n",
       "      <td>132.000000</td>\n",
       "      <td>12266.000000</td>\n",
       "      <td>10099.000000</td>\n",
       "      <td>3366.000000</td>\n",
       "      <td>7460.000000</td>\n",
       "      <td>917.000000</td>\n",
       "      <td>0.069163</td>\n",
       "      <td>36000.000000</td>\n",
       "      <td>27000.000000</td>\n",
       "      <td>47000.000000</td>\n",
       "      <td>4545.000000</td>\n",
       "      <td>4612.000000</td>\n",
       "      <td>1246.000000</td>\n",
       "    </tr>\n",
       "    <tr>\n",
       "      <th>75%</th>\n",
       "      <td>130.500000</td>\n",
       "      <td>5503.500000</td>\n",
       "      <td>38975.500000</td>\n",
       "      <td>14822.000000</td>\n",
       "      <td>22651.500000</td>\n",
       "      <td>0.704578</td>\n",
       "      <td>340.000000</td>\n",
       "      <td>31969.500000</td>\n",
       "      <td>25747.500000</td>\n",
       "      <td>10014.000000</td>\n",
       "      <td>18458.500000</td>\n",
       "      <td>2401.000000</td>\n",
       "      <td>0.089499</td>\n",
       "      <td>45000.000000</td>\n",
       "      <td>33000.000000</td>\n",
       "      <td>59000.000000</td>\n",
       "      <td>14747.500000</td>\n",
       "      <td>11800.500000</td>\n",
       "      <td>3526.000000</td>\n",
       "    </tr>\n",
       "    <tr>\n",
       "      <th>max</th>\n",
       "      <td>173.000000</td>\n",
       "      <td>6403.000000</td>\n",
       "      <td>393735.000000</td>\n",
       "      <td>173809.000000</td>\n",
       "      <td>307087.000000</td>\n",
       "      <td>0.968954</td>\n",
       "      <td>4212.000000</td>\n",
       "      <td>307933.000000</td>\n",
       "      <td>251540.000000</td>\n",
       "      <td>115172.000000</td>\n",
       "      <td>199897.000000</td>\n",
       "      <td>28169.000000</td>\n",
       "      <td>0.315842</td>\n",
       "      <td>110000.000000</td>\n",
       "      <td>95000.000000</td>\n",
       "      <td>125000.000000</td>\n",
       "      <td>151643.000000</td>\n",
       "      <td>148395.000000</td>\n",
       "      <td>48207.000000</td>\n",
       "    </tr>\n",
       "  </tbody>\n",
       "</table>\n",
       "</div>"
      ],
      "text/plain": [
       "             Rank   Major_code  Total_graduates  Men_graduates  \\\n",
       "count  171.000000   171.000000       171.000000     171.000000   \n",
       "mean    87.456140  3896.508772     39599.590643   16820.479532   \n",
       "std     50.119412  1684.155957     63598.326310   28176.109465   \n",
       "min      1.000000  1100.000000       609.000000     119.000000   \n",
       "25%     44.500000  2403.500000      4628.500000    2268.500000   \n",
       "50%     88.000000  3608.000000     15150.000000    5521.000000   \n",
       "75%    130.500000  5503.500000     38975.500000   14822.000000   \n",
       "max    173.000000  6403.000000    393735.000000  173809.000000   \n",
       "\n",
       "       Women_graduates  ShareWomen  Sample_size  Total_employed  \\\n",
       "count       171.000000  171.000000   171.000000      171.000000   \n",
       "mean      22779.111111    0.525277   360.011696    31539.175439   \n",
       "std       41141.047383    0.228378   620.903734    50869.408650   \n",
       "min          77.000000    0.077453     2.000000      559.000000   \n",
       "25%        1829.000000    0.340248    43.500000     3815.500000   \n",
       "50%        8489.000000    0.535714   132.000000    12266.000000   \n",
       "75%       22651.500000    0.704578   340.000000    31969.500000   \n",
       "max      307087.000000    0.968954  4212.000000   307933.000000   \n",
       "\n",
       "       Full_time_employed  Part_time_employed  Full_time_year_round  \\\n",
       "count          171.000000          171.000000            171.000000   \n",
       "mean         26318.134503         8929.146199          19913.976608   \n",
       "std          43036.642009        14706.304837          33292.391735   \n",
       "min            488.000000            0.000000            340.000000   \n",
       "25%           3197.000000         1035.000000           2537.500000   \n",
       "50%          10099.000000         3366.000000           7460.000000   \n",
       "75%          25747.500000        10014.000000          18458.500000   \n",
       "max         251540.000000       115172.000000         199897.000000   \n",
       "\n",
       "         Unemployed  Unemployment_rate  Median_salary         P25th  \\\n",
       "count    171.000000         171.000000     171.000000    171.000000   \n",
       "mean    2445.783626           0.072319   40077.192982  29425.438596   \n",
       "std     4127.810734           0.034398   11495.047796   9182.221262   \n",
       "min       11.000000           0.006334   22000.000000  18500.000000   \n",
       "25%      308.000000           0.052384   33000.000000  24000.000000   \n",
       "50%      917.000000           0.069163   36000.000000  27000.000000   \n",
       "75%     2401.000000           0.089499   45000.000000  33000.000000   \n",
       "max    28169.000000           0.315842  110000.000000  95000.000000   \n",
       "\n",
       "               P75th   College_jobs  Non_college_jobs  Low_wage_jobs  \n",
       "count     171.000000     171.000000        171.000000     171.000000  \n",
       "mean    51453.216374   12459.842105      13432.421053    3901.315789  \n",
       "std     14900.265637   21386.438959      23889.270685    6974.531378  \n",
       "min     22000.000000     162.000000         50.000000       0.000000  \n",
       "25%     42000.000000    1788.000000       1624.500000     341.500000  \n",
       "50%     47000.000000    4545.000000       4612.000000    1246.000000  \n",
       "75%     59000.000000   14747.500000      11800.500000    3526.000000  \n",
       "max    125000.000000  151643.000000     148395.000000   48207.000000  "
      ]
     },
     "execution_count": 19,
     "metadata": {},
     "output_type": "execute_result"
    }
   ],
   "source": [
    "# Look back at the updated columns summary statistics\n",
    "recent_grads.describe()"
   ]
  },
  {
   "cell_type": "markdown",
   "metadata": {},
   "source": [
    "Ok, much better. I do have, however, one last small objection to make: the values in the `Unemployment_rate` and `ShareWomen` columns are in a scale of 0 to 1; I find it more intuitive to work with percentages so let me change that."
   ]
  },
  {
   "cell_type": "code",
   "execution_count": 20,
   "metadata": {},
   "outputs": [],
   "source": [
    "# Change scale of percentages columns (from \"0 to 1\" to \"0 to 100\")\n",
    "recent_grads[\"Unemployment_rate\"] = recent_grads[\"Unemployment_rate\"] * 100\n",
    "recent_grads[\"ShareWomen\"] = recent_grads[\"ShareWomen\"] * 100"
   ]
  },
  {
   "cell_type": "code",
   "execution_count": 21,
   "metadata": {},
   "outputs": [],
   "source": [
    "# Rename these columns to make it even more clear we are talking about percentages\n",
    "recent_grads.rename(columns = {\"Unemployment_rate\" : \"Unemployment_rate%\", \"ShareWomen\" : \"Women_graduates%\"}, inplace = True)"
   ]
  },
  {
   "cell_type": "markdown",
   "metadata": {},
   "source": [
    "Now that we have cleaned our data, we are ready to analyze it using some plots."
   ]
  },
  {
   "cell_type": "markdown",
   "metadata": {},
   "source": [
    "---\n",
    "\n",
    "## Let's Talk Money"
   ]
  },
  {
   "cell_type": "markdown",
   "metadata": {},
   "source": [
    "First of all let's try to figure out how much money new graduates make."
   ]
  },
  {
   "cell_type": "code",
   "execution_count": 22,
   "metadata": {},
   "outputs": [
    {
     "data": {
      "image/png": "[encoded data removed]",
      "text/plain": [
       "<Figure size 432x288 with 1 Axes>"
      ]
     },
     "metadata": {
      "needs_background": "light"
     },
     "output_type": "display_data"
    }
   ],
   "source": [
    "# Plot histogram of median salaries values\n",
    "ax = (recent_grads[\"Median_salary\"] / 1000).hist(bins = 25) # We display salaries using the thousand unit in order not\n",
    "                                                     # to crowd the ticks labels on the x-axis\n",
    "plt.xticks(np.arange(20, 120,10))    # We choose this range keeping in mind the min/max values we saw above\n",
    "ax.set_title(\"Median Salary (in thousands of dollars)\");"
   ]
  },
  {
   "cell_type": "markdown",
   "metadata": {},
   "source": [
    "From the histogram above we can infer that most of the students who graduated from a US institution between 2010 and 2012 landed a job that guarantees them a median salary between \\\\$29,800 and \\\\$43,300.\n",
    "\n",
    "Overall, the most common median salary ranges between \\\\$33,300 and \\\\$36,600. Moreover, the median salary of the richest major (which we've seen it quantifies exactly to \\\\$110,000 and belongs to the *Petroleum Engineering* major) is way above all other ones (specifically, it is 46% higher than the median salary of the second ranking major). \n",
    "\n",
    "It's hard to comment on the health status of the labor market using these raw numbers without taking into considerations additional factors like inflation or the cost of living (for example, a median salary of \\\\$35,000 would be much less valuable in a big and expensive city like New York than in other parts of the country which are more rural).\n",
    "\n",
    "Perhaps, it would make more sense to compare these numbers with analogous data from a period immediately preceding the one we are considering to see if the job perspectives for new graduates have improved or not. For now let's make sure the sample size used to calculate these earnings is significant."
   ]
  },
  {
   "cell_type": "code",
   "execution_count": 23,
   "metadata": {},
   "outputs": [],
   "source": [
    "# Calculate what percentage of the population was sampled for each major\n",
    "# Remember the population consists of the full-time, year-round employed graduates\n",
    "sample_size_perc = recent_grads[\"Sample_size\"] / recent_grads[\"Full_time_year_round\"] * 100"
   ]
  },
  {
   "cell_type": "code",
   "execution_count": 24,
   "metadata": {},
   "outputs": [
    {
     "data": {
      "text/html": [
       "<div>\n",
       "<style scoped>\n",
       "    .dataframe tbody tr th:only-of-type {\n",
       "        vertical-align: middle;\n",
       "    }\n",
       "\n",
       "    .dataframe tbody tr th {\n",
       "        vertical-align: top;\n",
       "    }\n",
       "\n",
       "    .dataframe thead th {\n",
       "        text-align: right;\n",
       "    }\n",
       "</style>\n",
       "<table border=\"1\" class=\"dataframe\">\n",
       "  <thead>\n",
       "    <tr style=\"text-align: right;\">\n",
       "      <th></th>\n",
       "      <th>Population_size</th>\n",
       "      <th>Sample_size</th>\n",
       "      <th>Sample_size%</th>\n",
       "    </tr>\n",
       "  </thead>\n",
       "  <tbody>\n",
       "    <tr>\n",
       "      <th>count</th>\n",
       "      <td>171.000000</td>\n",
       "      <td>171.000000</td>\n",
       "      <td>171.000000</td>\n",
       "    </tr>\n",
       "    <tr>\n",
       "      <th>mean</th>\n",
       "      <td>19913.976608</td>\n",
       "      <td>360.011696</td>\n",
       "      <td>1.763992</td>\n",
       "    </tr>\n",
       "    <tr>\n",
       "      <th>std</th>\n",
       "      <td>33292.391735</td>\n",
       "      <td>620.903734</td>\n",
       "      <td>0.478238</td>\n",
       "    </tr>\n",
       "    <tr>\n",
       "      <th>min</th>\n",
       "      <td>340.000000</td>\n",
       "      <td>2.000000</td>\n",
       "      <td>0.416165</td>\n",
       "    </tr>\n",
       "    <tr>\n",
       "      <th>25%</th>\n",
       "      <td>2537.500000</td>\n",
       "      <td>43.500000</td>\n",
       "      <td>1.517942</td>\n",
       "    </tr>\n",
       "    <tr>\n",
       "      <th>50%</th>\n",
       "      <td>7460.000000</td>\n",
       "      <td>132.000000</td>\n",
       "      <td>1.769812</td>\n",
       "    </tr>\n",
       "    <tr>\n",
       "      <th>75%</th>\n",
       "      <td>18458.500000</td>\n",
       "      <td>340.000000</td>\n",
       "      <td>2.083113</td>\n",
       "    </tr>\n",
       "    <tr>\n",
       "      <th>max</th>\n",
       "      <td>199897.000000</td>\n",
       "      <td>4212.000000</td>\n",
       "      <td>3.002309</td>\n",
       "    </tr>\n",
       "  </tbody>\n",
       "</table>\n",
       "</div>"
      ],
      "text/plain": [
       "       Population_size  Sample_size  Sample_size%\n",
       "count       171.000000   171.000000    171.000000\n",
       "mean      19913.976608   360.011696      1.763992\n",
       "std       33292.391735   620.903734      0.478238\n",
       "min         340.000000     2.000000      0.416165\n",
       "25%        2537.500000    43.500000      1.517942\n",
       "50%        7460.000000   132.000000      1.769812\n",
       "75%       18458.500000   340.000000      2.083113\n",
       "max      199897.000000  4212.000000      3.002309"
      ]
     },
     "execution_count": 24,
     "metadata": {},
     "output_type": "execute_result"
    }
   ],
   "source": [
    "# Print summary statistics of population and sample size\n",
    "sample_size = pd.DataFrame({\"Population_size\" : recent_grads[\"Full_time_year_round\"],\n",
    "                            \"Sample_size\" : recent_grads[\"Sample_size\"], \"Sample_size%\" : sample_size_perc})\n",
    "sample_size.describe()"
   ]
  },
  {
   "cell_type": "markdown",
   "metadata": {},
   "source": [
    "Oh man, these are pretty small sample sizes. In fact, a general rule of thumb for choosing a sample size that would yield representative results is to survey [10% of the population up to a maximum of 1000](https://tools4dev.org/resources/how-to-choose-a-sample-size/#:~:text=A%20good%20maximum%20sample%20size%20is%20usually%20around%2010%25%20of,the%20maximum%20would%20be%201000.) (and with a fixed minimum of 100 individuals). The numbers we have here are not even close to that. \n",
    "\n",
    "I guess we will just have to live with it. Let's move on."
   ]
  },
  {
   "cell_type": "markdown",
   "metadata": {},
   "source": [
    "In order to get a less granular and more practical picture, rather than looking at each single major, let's see what are the richest major categories. "
   ]
  },
  {
   "cell_type": "code",
   "execution_count": 25,
   "metadata": {},
   "outputs": [],
   "source": [
    "# Prepare the data to be plot\n",
    "salary_by_maj_cat = recent_grads.groupby(\"Major_category\")[\"Median_salary\"].mean().sort_values()"
   ]
  },
  {
   "cell_type": "code",
   "execution_count": 26,
   "metadata": {},
   "outputs": [
    {
     "data": {
      "image/png": "[encoded data removed]",
      "text/plain": [
       "<Figure size 864x360 with 1 Axes>"
      ]
     },
     "metadata": {
      "needs_background": "light"
     },
     "output_type": "display_data"
    }
   ],
   "source": [
    "# Plot median salary by major category\n",
    "ax = salary_by_maj_cat.plot(kind = \"barh\", figsize = (12, 5)) \n",
    "ax.set_ylabel(\"\");\n",
    "ax.set_title(\"Median Salary by Major Category\");"
   ]
  },
  {
   "cell_type": "markdown",
   "metadata": {},
   "source": [
    "*Engineering* is by far the category of major that makes you more rich and guarantees you a salary of about $57,500, which is almost 60% higher than the median of all salaries throughout all majors. *Business* comes in second (\\\\$44,500) followed by *Computers & Mathematics*, *Law & Public Policy* and *Physical Science* (all three of them around \\\\$42,500).\n",
    "\n",
    "These numbers seem to confirm that nowadays jobs in STEM are among the most desirable, at least from a financial point of view. "
   ]
  },
  {
   "cell_type": "markdown",
   "metadata": {},
   "source": [
    "## More Money = More Popular?"
   ]
  },
  {
   "cell_type": "markdown",
   "metadata": {},
   "source": [
    "In this section we will try to answer the following question: do majors which guarantee access to higher paying jobs also tend to be the ones with more graduates? To be honest, throughout my whole academic life, I have never met anyone who studied either Petroleum, Mining or Metallurgic Engineering (the three richest majors) so I'll put my virtual dollar on the \"No\" side but let's see.  "
   ]
  },
  {
   "cell_type": "code",
   "execution_count": 27,
   "metadata": {},
   "outputs": [
    {
     "data": {
      "image/png": "[encoded data removed]",
      "text/plain": [
       "<Figure size 432x288 with 1 Axes>"
      ]
     },
     "metadata": {
      "needs_background": "light"
     },
     "output_type": "display_data"
    }
   ],
   "source": [
    "# Draw \"Number of graduates\" vs \"Median salary\" scatterplot\n",
    "ax = recent_grads.plot(x = \"Total_graduates\", y = \"Median_salary\", kind = \"scatter\")\n",
    "ax.set_title(\"Total graduates vs. Median salary\");"
   ]
  },
  {
   "cell_type": "markdown",
   "metadata": {},
   "source": [
    "It looks like I was right. There is no clear correlation between number of graduates and median salary. In fact, we observe the highest median salary values (together with the greatest variance) in those majors with a small number of graduates (25,000 or less).\n",
    "\n",
    "Actually, none of the most popular majors (those with at least 150,000 graduates) guarantee a median salary above \\\\$50,000."
   ]
  },
  {
   "cell_type": "markdown",
   "metadata": {},
   "source": [
    "## The 82 Cents on the Dollar Gap"
   ]
  },
  {
   "cell_type": "markdown",
   "metadata": {},
   "source": [
    "It's no secret that equal pay for men and women is an important battle far from being won. Indeed, [it is estimated](https://www.aauw.org/resources/research/simple-truth/#:~:text=Women%20working%20full%20time%20in%20the%20U.S.%20are%20still%20paid%20just%2083%20cents%20to%20every%20dollar%20earned%20by%20men) that for every dollar a man earns, a woman working the same job will be payed 82 cents.\n",
    "\n",
    "The dataset we are using contains a lot of gender related information. Let's take advantage of this and let's see if we can find any insights on the pay gap issue.  \n",
    "\n",
    "First of all let's see what percentage of majors have more male/female graduates."
   ]
  },
  {
   "cell_type": "code",
   "execution_count": 28,
   "metadata": {},
   "outputs": [
    {
     "data": {
      "image/png": "[encoded data removed]",
      "text/plain": [
       "<Figure size 432x288 with 1 Axes>"
      ]
     },
     "metadata": {
      "needs_background": "light"
     },
     "output_type": "display_data"
    }
   ],
   "source": [
    "# Visualize male/female dominated majors using a two-bins histogram of the Women graduates %  \n",
    "ax = recent_grads[\"Women_graduates%\"].hist(bins = 2, range=(0, 100))\n",
    "plt.xticks([0,50,100])\n",
    "ax.set_title(\"Breakdown of Male/Female Dominated Majors\");"
   ]
  },
  {
   "cell_type": "markdown",
   "metadata": {},
   "source": [
    "In the plot above the height of the bin on the left represents the number of majors with more men graduates than women graduates; conversely, the height of the bin on the right represents the number of majors with more women graduates than men graduates."
   ]
  },
  {
   "cell_type": "markdown",
   "metadata": {},
   "source": [
    "We infer that roughly 96 out of the 171 majors (a total of 56%) have a predominantly female graduates population."
   ]
  },
  {
   "cell_type": "code",
   "execution_count": 29,
   "metadata": {},
   "outputs": [
    {
     "data": {
      "image/png": "[encoded data removed]",
      "text/plain": [
       "<Figure size 1080x360 with 2 Axes>"
      ]
     },
     "metadata": {
      "needs_background": "light"
     },
     "output_type": "display_data"
    }
   ],
   "source": [
    "fig = plt.figure(figsize = (15, 5))\n",
    "\n",
    "ax1 = fig.add_subplot(1, 2, 1)\n",
    "ax2 = fig.add_subplot(1, 2, 2)\n",
    "\n",
    "ax1.scatter(x = recent_grads[\"Men_graduates\"], y = recent_grads[\"Median_salary\"])\n",
    "ax1.set_xlabel(\"Men_graduates\");\n",
    "ax1.set_ylabel(\"Median_salary\");\n",
    "ax1.set_title(\"Men graduates vs. Median salary\");\n",
    "ax1.set_xlim((-10000, 200000));\n",
    "\n",
    "\n",
    "ax2.scatter(x = recent_grads[\"Women_graduates\"], y = recent_grads[\"Median_salary\"])\n",
    "ax2.set_xlabel(\"Women_graduates\");\n",
    "ax2.set_title(\"Women graduates vs. Median salary\");\n",
    "ax2.set_xlim((-10000, 200000));"
   ]
  },
  {
   "cell_type": "markdown",
   "metadata": {},
   "source": [
    "The two scatterplots above don't show any strong correlation between the number of men/women graduates and the median salary. They are both very much skewed right (indicating the presence of a large number of smaller majors with limited number of graduates) and they look very similar within the 0 to 25,000 range on the x-axis. \n",
    "\n",
    "As the number of graduates increases, however, we do notice that the median salary for a man tends to be higher than the one for a woman."
   ]
  },
  {
   "cell_type": "markdown",
   "metadata": {},
   "source": [
    "Let's draw an additional scatterplot to relate the median salary with the percentage of women graduates."
   ]
  },
  {
   "cell_type": "code",
   "execution_count": 30,
   "metadata": {},
   "outputs": [
    {
     "data": {
      "image/png": "[encoded data removed]",
      "text/plain": [
       "<Figure size 1080x360 with 1 Axes>"
      ]
     },
     "metadata": {
      "needs_background": "light"
     },
     "output_type": "display_data"
    }
   ],
   "source": [
    "# Draw Women graduates percentage vs. Median salary scatterplot\n",
    "ax3 = recent_grads.plot(x = \"Women_graduates%\", y = \"Median_salary\", kind = \"scatter\", figsize = (15, 5))\n",
    "ax3.set_title(\"Women graduates percentage vs. Median salary\");"
   ]
  },
  {
   "cell_type": "markdown",
   "metadata": {},
   "source": [
    "This time it is possible to observe a pretty clear negative correlation between the percentage of women graduates in a major and the median salary. This could very possibly be a reflection of the gender pay gap issue but, in order to get more evidence, let's also use barplots to visualize the representation of men/women graduates in the majors which yield the highest and lowest median salaries."
   ]
  },
  {
   "cell_type": "code",
   "execution_count": 31,
   "metadata": {},
   "outputs": [],
   "source": [
    "# Set colors to use\n",
    "blue = \"#0000ff\"   # Blue for men\n",
    "pink = \"#ff9999\"   # Pink for women "
   ]
  },
  {
   "cell_type": "code",
   "execution_count": 32,
   "metadata": {},
   "outputs": [
    {
     "data": {
      "image/png": "[encoded data removed]",
      "text/plain": [
       "<Figure size 864x360 with 2 Axes>"
      ]
     },
     "metadata": {
      "needs_background": "light"
     },
     "output_type": "display_data"
    }
   ],
   "source": [
    "# Set width of bar\n",
    "barWidth = 0.25\n",
    "\n",
    "fig = plt.figure(figsize = (12, 5))\n",
    "\n",
    "ax1 = fig.add_subplot(1, 2, 1)\n",
    "ax2 = fig.add_subplot(1, 2, 2)\n",
    " \n",
    "# Set height of bars\n",
    "barsM_rich = recent_grads.iloc[:5][\"Men_graduates\"].values;\n",
    "barsW_rich = recent_grads.iloc[:5][\"Women_graduates\"].values;\n",
    "barsM_poor = recent_grads.iloc[-5:][\"Men_graduates\"].values;\n",
    "barsW_poor = recent_grads.iloc[-5:][\"Women_graduates\"].values;\n",
    " \n",
    "# Set position of bars on x-axis\n",
    "r1 = np.arange(len(barsM_rich));\n",
    "r2 = [x + barWidth for x in r1];\n",
    " \n",
    "# Make the vertical barplot for the richest majors\n",
    "ax1.bar(r1, barsM_rich, color = blue, width=barWidth, edgecolor='white', label='Men')\n",
    "ax1.bar(r2, barsW_rich, color= pink, width=barWidth, edgecolor='white', label='Women')\n",
    "\n",
    "# Make the vertical barplot for the poorest majors\n",
    "ax2.bar(r1, barsM_poor, color = blue, width=barWidth, edgecolor='white', label='Men')\n",
    "ax2.bar(r2, barsW_poor, color= pink, width=barWidth, edgecolor='white', label='Women')\n",
    " \n",
    "# Add xticks and labels in the middle of the grouped bars\n",
    "ax1.set_xticks([r + barWidth / 2 for r in range(len(barsM_rich))]);\n",
    "ax1.set_xticklabels(recent_grads.iloc[:5][\"Major\"].values, rotation = 90);\n",
    "ax2.set_xticks([r + barWidth / 2 for r in range(len(barsM_rich))]);\n",
    "ax2.set_xticklabels(recent_grads.iloc[-5:][\"Major\"].values, rotation = 90);\n",
    " \n",
    "# Add titles\n",
    "ax1.set_title(\"Gender Breakdwon in Richest 5 Majors\");\n",
    "ax2.set_title(\"Gender Breakdwon in Poorest 5 Majors\");\n",
    "    \n",
    "# Create legend\n",
    "ax2.legend(loc = \"upper right\");"
   ]
  },
  {
   "cell_type": "markdown",
   "metadata": {},
   "source": [
    "The two graphs above depict a very polarizing situation: all top 5 majors are predominantly male and all bottom 5 majors are predominantly female. This is certainly not a good look. Such an extreme situation suggests that the gender pay gap is very much a real problem."
   ]
  },
  {
   "cell_type": "markdown",
   "metadata": {},
   "source": [
    "Let's see if we obtain a similar picture when we group by major category."
   ]
  },
  {
   "cell_type": "code",
   "execution_count": 33,
   "metadata": {},
   "outputs": [],
   "source": [
    "# Set lenght of bars\n",
    "barsM = recent_grads.groupby(\"Major_category\")[\"Men_graduates\"].sum()\n",
    "barsW = recent_grads.groupby(\"Major_category\")[\"Women_graduates\"].sum()\n",
    "\n",
    "# Get a list of major categories ordered by median salary and use this order to rearrange the bars\n",
    "majors_cat_by_salary = list(salary_by_maj_cat.sort_values().index)\n",
    "barsM = barsM.reindex(majors_cat_by_salary)\n",
    "barsW = barsW.reindex(majors_cat_by_salary)"
   ]
  },
  {
   "cell_type": "code",
   "execution_count": 34,
   "metadata": {},
   "outputs": [
    {
     "data": {
      "image/png": "[encoded data removed]",
      "text/plain": [
       "<Figure size 1440x720 with 1 Axes>"
      ]
     },
     "metadata": {
      "needs_background": "light"
     },
     "output_type": "display_data"
    }
   ],
   "source": [
    "plt.figure(figsize=(20,10))\n",
    "\n",
    "# Set position of bars on y-axis\n",
    "r1 = np.arange(10, 330, 20);\n",
    "r2 = [x + 5 for x in r1];\n",
    "\n",
    "# Make the horizontal barplot\n",
    "plt.barh(r1, barsM.values, 5, color = blue, edgecolor='white', label = \"Men\");\n",
    "plt.barh(r2, barsW.values, 5, color= pink, edgecolor='white', label = \"Women\");\n",
    "\n",
    "# Add yticks and labels in the middle of the grouped bars\n",
    "plt.yticks(r1 + 3, barsM.index);\n",
    "\n",
    "# Increase size of ticks labels\n",
    "plt.tick_params(axis = \"both\", labelsize = \"xx-large\");\n",
    "\n",
    "# Make title\n",
    "plt.title(\"Gender breakdown by major category\", fontsize = \"xx-large\");\n",
    "\n",
    "# Make legend\n",
    "plt.legend(prop={'size': 20});"
   ]
  },
  {
   "cell_type": "markdown",
   "metadata": {},
   "source": [
    "In the bar plot above the major categories appear in rank order, with the richest ones appearing on top and the poorest ones on the bottom. We can see how the top 5 major categories are all predominantly male. This is even more remarkable given the fact that, among all major categories, only 6 of them produce more men graduates than women graduates.\n",
    "\n",
    "All this evidence exposes very clearly the gender pay gap problem and shows the double nature of the same issue: on one hand, women are not well representated in the most financially rewarding careers; on the other hand, the high salaries in these predominantly male jobs are directly determined by the fact that women are generally paid less. These two issues end up critically influencing each other and they both need to be addressed if we want to reach gender equality among working people.  \n",
    "\n",
    "In case the reader is interested in a more comprehensive look at the ramifications of the gender gap in US college degrees, it can refer to [this](https://github.com/gb-pignatti/new_grads_earnings/blob/main/visualizing_gender_gap.ipynb) other notebook where I created a picture showing how the percentage of male and female graduates among 17 different majors has evolved over the years, starting from 1970 and ending in 2012. "
   ]
  },
  {
   "cell_type": "markdown",
   "metadata": {},
   "source": [
    "## Employed or Not Employed: That Is The Question! "
   ]
  },
  {
   "cell_type": "markdown",
   "metadata": {},
   "source": [
    "To analyze how healthy is the job market for new graduates in the US we can use the unemployment rates data."
   ]
  },
  {
   "cell_type": "code",
   "execution_count": 35,
   "metadata": {},
   "outputs": [
    {
     "data": {
      "image/png": "[encoded data removed]",
      "text/plain": [
       "<Figure size 432x288 with 1 Axes>"
      ]
     },
     "metadata": {
      "needs_background": "light"
     },
     "output_type": "display_data"
    }
   ],
   "source": [
    "# Draw histogram of unemployment rate\n",
    "ax = recent_grads[\"Unemployment_rate%\"].hist(bins = 25, range = (0, 25))\n",
    "ax.set_title(\"Unemployment rate percentage\");"
   ]
  },
  {
   "cell_type": "markdown",
   "metadata": {},
   "source": [
    "Looking at the plot above we can see that about 65% of the majors have an unemployment rate which is lower than 8%. These numbers seem pretty encouraging, especially if we compare them with the data released by the [Bureau of Labor Statistics](https://www.bls.gov/charts/employment-situation/civilian-unemployment-rate.htm) which, for the years 2010-2012, recorded national unemployment rates ranging from 7.7% to 9.9%."
   ]
  },
  {
   "cell_type": "markdown",
   "metadata": {},
   "source": [
    "Let's check next if the unemployment rates are correlated to the median salary in any meaningful way. "
   ]
  },
  {
   "cell_type": "code",
   "execution_count": 36,
   "metadata": {},
   "outputs": [
    {
     "data": {
      "image/png": "[encoded data removed]",
      "text/plain": [
       "<Figure size 432x288 with 1 Axes>"
      ]
     },
     "metadata": {
      "needs_background": "light"
     },
     "output_type": "display_data"
    }
   ],
   "source": [
    "# Draw Unemployment rate percentage vs. Median salary scatterplot\n",
    "ax = recent_grads.plot(x = \"Median_salary\", y = \"Unemployment_rate%\", kind = \"scatter\")\n",
    "ax.set_title(\"Unemployment rate percentage vs. Median salary\");"
   ]
  },
  {
   "cell_type": "markdown",
   "metadata": {},
   "source": [
    "It looks like there is no correlation between unemployment rate and median salary. Actually, if we focus on a median salary range (even a very small one) we can observe an extremely non uniform behavior for the unemployment rate values. "
   ]
  },
  {
   "cell_type": "markdown",
   "metadata": {},
   "source": [
    "Let's also check if the unemployment rate is influenced by the number of graduates in a major. One possible hypothesis could state that the unemployment rate would spike for those majors with a large number of graduates: ideally such a large population increases the competition and reduces the number of available jobs. "
   ]
  },
  {
   "cell_type": "code",
   "execution_count": 37,
   "metadata": {},
   "outputs": [
    {
     "data": {
      "image/png": "[encoded data removed]",
      "text/plain": [
       "<Figure size 432x288 with 1 Axes>"
      ]
     },
     "metadata": {
      "needs_background": "light"
     },
     "output_type": "display_data"
    }
   ],
   "source": [
    "# Draw a Total graduates vs. Unemployment rate scatterplot\n",
    "ax = recent_grads.plot(x = \"Total_graduates\", y = \"Unemployment_rate%\", kind = \"scatter\")\n",
    "ax.set_title(\"Total graduates vs. Unemployment rate\");"
   ]
  },
  {
   "cell_type": "markdown",
   "metadata": {},
   "source": [
    "The scatterplot above shows that there is actually no correlation between unemployment rate and total number of graduates. The speculation we made above is therefore incorrect."
   ]
  },
  {
   "cell_type": "markdown",
   "metadata": {},
   "source": [
    "Since we haven't found any meaningful correlation, let's focus on the distribution of the unemployment rate values themselves."
   ]
  },
  {
   "cell_type": "code",
   "execution_count": 38,
   "metadata": {},
   "outputs": [
    {
     "data": {
      "image/png": "[encoded data removed]",
      "text/plain": [
       "<Figure size 432x288 with 1 Axes>"
      ]
     },
     "metadata": {
      "needs_background": "light"
     },
     "output_type": "display_data"
    }
   ],
   "source": [
    "# Draw distribution of Unemplyment_rate% using a boxplot \n",
    "ax = recent_grads[\"Unemployment_rate%\"].plot(kind = \"box\")\n",
    "ax.set_title(\"Distribution of Unemployment rates\");"
   ]
  },
  {
   "cell_type": "markdown",
   "metadata": {},
   "source": [
    "From this box plot we see see that the median unemployment rate is close to 7%. Moreover, the interquartile range is less than 4% which means that the values are not too spread out. We also notice a few upper outliers. Let's analyze these outliers in more details. "
   ]
  },
  {
   "cell_type": "code",
   "execution_count": 39,
   "metadata": {},
   "outputs": [],
   "source": [
    "# Find the exact value of the Inter Quartile Range\n",
    "IQT = recent_grads[\"Unemployment_rate%\"].quantile(0.75) - recent_grads[\"Unemployment_rate%\"].quantile(0.25)"
   ]
  },
  {
   "cell_type": "code",
   "execution_count": 40,
   "metadata": {},
   "outputs": [
    {
     "data": {
      "text/html": [
       "<div>\n",
       "<style scoped>\n",
       "    .dataframe tbody tr th:only-of-type {\n",
       "        vertical-align: middle;\n",
       "    }\n",
       "\n",
       "    .dataframe tbody tr th {\n",
       "        vertical-align: top;\n",
       "    }\n",
       "\n",
       "    .dataframe thead th {\n",
       "        text-align: right;\n",
       "    }\n",
       "</style>\n",
       "<table border=\"1\" class=\"dataframe\">\n",
       "  <thead>\n",
       "    <tr style=\"text-align: right;\">\n",
       "      <th></th>\n",
       "      <th>Rank</th>\n",
       "      <th>Major_code</th>\n",
       "      <th>Major</th>\n",
       "      <th>Total_graduates</th>\n",
       "      <th>Men_graduates</th>\n",
       "      <th>Women_graduates</th>\n",
       "      <th>Major_category</th>\n",
       "      <th>Women_graduates%</th>\n",
       "      <th>Sample_size</th>\n",
       "      <th>Total_employed</th>\n",
       "      <th>Full_time_employed</th>\n",
       "      <th>Part_time_employed</th>\n",
       "      <th>Full_time_year_round</th>\n",
       "      <th>Unemployed</th>\n",
       "      <th>Unemployment_rate%</th>\n",
       "      <th>Median_salary</th>\n",
       "      <th>P25th</th>\n",
       "      <th>P75th</th>\n",
       "      <th>College_jobs</th>\n",
       "      <th>Non_college_jobs</th>\n",
       "      <th>Low_wage_jobs</th>\n",
       "    </tr>\n",
       "  </thead>\n",
       "  <tbody>\n",
       "    <tr>\n",
       "      <th>83</th>\n",
       "      <td>84</td>\n",
       "      <td>3602</td>\n",
       "      <td>BOTANY</td>\n",
       "      <td>1329.0</td>\n",
       "      <td>626.0</td>\n",
       "      <td>703.0</td>\n",
       "      <td>Biology &amp; Life Science</td>\n",
       "      <td>52.896915</td>\n",
       "      <td>9</td>\n",
       "      <td>1010</td>\n",
       "      <td>946</td>\n",
       "      <td>169</td>\n",
       "      <td>740</td>\n",
       "      <td>319.0</td>\n",
       "      <td>31.584158</td>\n",
       "      <td>37000</td>\n",
       "      <td>26000</td>\n",
       "      <td>40000</td>\n",
       "      <td>677</td>\n",
       "      <td>184</td>\n",
       "      <td>56</td>\n",
       "    </tr>\n",
       "    <tr>\n",
       "      <th>5</th>\n",
       "      <td>6</td>\n",
       "      <td>2418</td>\n",
       "      <td>NUCLEAR ENGINEERING</td>\n",
       "      <td>2573.0</td>\n",
       "      <td>2200.0</td>\n",
       "      <td>373.0</td>\n",
       "      <td>Engineering</td>\n",
       "      <td>14.496697</td>\n",
       "      <td>17</td>\n",
       "      <td>1857</td>\n",
       "      <td>2038</td>\n",
       "      <td>264</td>\n",
       "      <td>1449</td>\n",
       "      <td>400.0</td>\n",
       "      <td>17.722641</td>\n",
       "      <td>65000</td>\n",
       "      <td>50000</td>\n",
       "      <td>102000</td>\n",
       "      <td>1142</td>\n",
       "      <td>657</td>\n",
       "      <td>244</td>\n",
       "    </tr>\n",
       "    <tr>\n",
       "      <th>89</th>\n",
       "      <td>90</td>\n",
       "      <td>5401</td>\n",
       "      <td>PUBLIC ADMINISTRATION</td>\n",
       "      <td>5629.0</td>\n",
       "      <td>2947.0</td>\n",
       "      <td>2682.0</td>\n",
       "      <td>Law &amp; Public Policy</td>\n",
       "      <td>47.646118</td>\n",
       "      <td>46</td>\n",
       "      <td>4158</td>\n",
       "      <td>4148</td>\n",
       "      <td>847</td>\n",
       "      <td>2952</td>\n",
       "      <td>789.0</td>\n",
       "      <td>15.949060</td>\n",
       "      <td>36000</td>\n",
       "      <td>23000</td>\n",
       "      <td>60000</td>\n",
       "      <td>919</td>\n",
       "      <td>2313</td>\n",
       "      <td>496</td>\n",
       "    </tr>\n",
       "    <tr>\n",
       "      <th>84</th>\n",
       "      <td>85</td>\n",
       "      <td>2107</td>\n",
       "      <td>COMPUTER NETWORKING AND TELECOMMUNICATIONS</td>\n",
       "      <td>7613.0</td>\n",
       "      <td>5291.0</td>\n",
       "      <td>2322.0</td>\n",
       "      <td>Computers &amp; Mathematics</td>\n",
       "      <td>30.500460</td>\n",
       "      <td>97</td>\n",
       "      <td>6144</td>\n",
       "      <td>5495</td>\n",
       "      <td>1447</td>\n",
       "      <td>4369</td>\n",
       "      <td>1100.0</td>\n",
       "      <td>15.184981</td>\n",
       "      <td>36400</td>\n",
       "      <td>27000</td>\n",
       "      <td>49000</td>\n",
       "      <td>2593</td>\n",
       "      <td>2941</td>\n",
       "      <td>352</td>\n",
       "    </tr>\n",
       "    <tr>\n",
       "      <th>170</th>\n",
       "      <td>171</td>\n",
       "      <td>5202</td>\n",
       "      <td>CLINICAL PSYCHOLOGY</td>\n",
       "      <td>2838.0</td>\n",
       "      <td>568.0</td>\n",
       "      <td>2270.0</td>\n",
       "      <td>Psychology &amp; Social Work</td>\n",
       "      <td>79.985906</td>\n",
       "      <td>13</td>\n",
       "      <td>2101</td>\n",
       "      <td>1724</td>\n",
       "      <td>648</td>\n",
       "      <td>1293</td>\n",
       "      <td>368.0</td>\n",
       "      <td>14.904820</td>\n",
       "      <td>25000</td>\n",
       "      <td>25000</td>\n",
       "      <td>40000</td>\n",
       "      <td>986</td>\n",
       "      <td>870</td>\n",
       "      <td>622</td>\n",
       "    </tr>\n",
       "  </tbody>\n",
       "</table>\n",
       "</div>"
      ],
      "text/plain": [
       "     Rank  Major_code                                       Major  \\\n",
       "83     84        3602                                      BOTANY   \n",
       "5       6        2418                         NUCLEAR ENGINEERING   \n",
       "89     90        5401                       PUBLIC ADMINISTRATION   \n",
       "84     85        2107  COMPUTER NETWORKING AND TELECOMMUNICATIONS   \n",
       "170   171        5202                         CLINICAL PSYCHOLOGY   \n",
       "\n",
       "     Total_graduates  Men_graduates  Women_graduates  \\\n",
       "83            1329.0          626.0            703.0   \n",
       "5             2573.0         2200.0            373.0   \n",
       "89            5629.0         2947.0           2682.0   \n",
       "84            7613.0         5291.0           2322.0   \n",
       "170           2838.0          568.0           2270.0   \n",
       "\n",
       "               Major_category  Women_graduates%  Sample_size  Total_employed  \\\n",
       "83     Biology & Life Science         52.896915            9            1010   \n",
       "5                 Engineering         14.496697           17            1857   \n",
       "89        Law & Public Policy         47.646118           46            4158   \n",
       "84    Computers & Mathematics         30.500460           97            6144   \n",
       "170  Psychology & Social Work         79.985906           13            2101   \n",
       "\n",
       "     Full_time_employed  Part_time_employed  Full_time_year_round  Unemployed  \\\n",
       "83                  946                 169                   740       319.0   \n",
       "5                  2038                 264                  1449       400.0   \n",
       "89                 4148                 847                  2952       789.0   \n",
       "84                 5495                1447                  4369      1100.0   \n",
       "170                1724                 648                  1293       368.0   \n",
       "\n",
       "     Unemployment_rate%  Median_salary  P25th   P75th  College_jobs  \\\n",
       "83            31.584158          37000  26000   40000           677   \n",
       "5             17.722641          65000  50000  102000          1142   \n",
       "89            15.949060          36000  23000   60000           919   \n",
       "84            15.184981          36400  27000   49000          2593   \n",
       "170           14.904820          25000  25000   40000           986   \n",
       "\n",
       "     Non_college_jobs  Low_wage_jobs  \n",
       "83                184             56  \n",
       "5                 657            244  \n",
       "89               2313            496  \n",
       "84               2941            352  \n",
       "170               870            622  "
      ]
     },
     "execution_count": 40,
     "metadata": {},
     "output_type": "execute_result"
    }
   ],
   "source": [
    "# Find the upper outliers of the Unemployment_rate% column\n",
    "upper_outliers = recent_grads[\"Unemployment_rate%\"] > recent_grads[\"Unemployment_rate%\"].quantile(0.75) + IQT * 1.5\n",
    "recent_grads[upper_outliers].sort_values(by = \"Unemployment_rate%\", ascending = False)"
   ]
  },
  {
   "cell_type": "markdown",
   "metadata": {},
   "source": [
    "It's kind of surprising how spread out are the ranks of these majors: one of them is in 6th place, another one is second to last and the remaning ones are right in the middle.\n",
    "\n",
    "These insight, together with the lack of strong correlations witnessed by the scatterplots we created, suggests that the unemployment rates might be influenced by issues that pertain each major individually (like for example shortage of funds or seasonality of a job)."
   ]
  },
  {
   "cell_type": "markdown",
   "metadata": {},
   "source": [
    "---\n",
    "# Conclusions\n",
    "\n",
    "In this project we used data visualization to analyze and retrieve some insights about the professional life of US graduates over the 2010-2012 period and across different majors. In particular, we were able to draw the following conclusions:   \n",
    "\n",
    "1. The majority of employed new graduates has a median salary that ranges between \\\\$33,300 and \\\\$36,600.\n",
    "2. The major categories that give access to the highest paying jobs are *Engineering*, *Business*, *Computers & Mathematics*, *Law & Public Policy* and *Physical Science*. More in general we see a dominance of STEM fields over Humanities and Social Sciences.\n",
    "3. There is no correlation between median salary and total number of graduates. This means that the most popular majors don't necessarily coincide with the richest ones.\n",
    "4. About 56% of all majors have more women graduates than men. However, when we group by major category, the gender imbalance gets more extreme: only 6 out of the 16 different categories are predominantly male.\n",
    "5. There is a strong disproportion regarding the richest majors. In particular, all top 5 majors are predominantly male and all bottom 5 majors are predominantly female. A similar polarizing situation appears if we use major categories instead.\n",
    "6. More than half of the majors report an unemployment rate among new graduates which is below 8%. This is lower than the unemployment rates recorded nationally in the US during the same time span.\n",
    "7. Unemployment rates are related neither to median salary nor to total number of graduates. In particular, high unemployment rates are recorded in top ranked majors as well as very low ranked majors. We infer that unemployment rates might be influenced by factors that are uniquely specific to each major.   "
   ]
  }
 ],
 "metadata": {
  "kernelspec": {
   "display_name": "Python 3 (ipykernel)",
   "language": "python",
   "name": "python3"
  },
  "language_info": {
   "codemirror_mode": {
    "name": "ipython",
    "version": 3
   },
   "file_extension": ".py",
   "mimetype": "text/x-python",
   "name": "python",
   "nbconvert_exporter": "python",
   "pygments_lexer": "ipython3",
   "version": "3.9.7"
  }
 },
 "nbformat": 4,
 "nbformat_minor": 4
}
